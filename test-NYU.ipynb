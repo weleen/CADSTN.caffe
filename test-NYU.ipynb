{
 "cells": [
  {
   "cell_type": "code",
   "execution_count": 2,
   "metadata": {
    "collapsed": false
   },
   "outputs": [],
   "source": [
    "import sys\n",
    "sys.path.insert(0, 'caffe/python')\n",
    "sys.path.insert(0, 'lib/data_layer/')\n",
    "sys.path.insert(0, 'lib/data/')\n",
    "sys.path.insert(0, 'lib/util/')\n",
    "import caffe\n",
    "\n",
    "import numpy as np\n",
    "import matplotlib.pyplot as plt\n",
    "%matplotlib inline"
   ]
  },
  {
   "cell_type": "code",
   "execution_count": null,
   "metadata": {
    "collapsed": false
   },
   "outputs": [],
   "source": [
    "prototxt = 'models/NYU/hand_lstm_small_frame_size/hand_lstm_small_frame_size.prototxt'\n",
    "solver_prototxt = 'models/NYU/hand_lstm_small_frame_size/solver_hand_lstm_small_frame_size.prototxt'\n",
    "weight_ = 'weights/NYU/hand_lstm_small_frame_size/hand_lstm_small_frame_size_iter_200000.caffemodel'\n",
    "#net = caffe.Net(prototxt, weight_, caffe.TEST)\n",
    "solver = caffe.SGDSolver(solver_prototxt)"
   ]
  },
  {
   "cell_type": "code",
   "execution_count": null,
   "metadata": {
    "collapsed": false
   },
   "outputs": [],
   "source": [
    "solver.net.forward()"
   ]
  },
  {
   "cell_type": "code",
   "execution_count": null,
   "metadata": {
    "collapsed": false,
    "scrolled": true
   },
   "outputs": [],
   "source": [
    "caffe.set_mode_gpu()\n",
    "caffe.set_device(0)\n",
    "import time\n",
    "t_start = time.time()\n",
    "\n",
    "predicted_joints = np.array([None]* 8252)\n",
    "\n",
    "for i in xrange(np.int(np.ceil(8252./ net.blobs['inds'].data.shape[0]))):\n",
    "    net.forward()\n",
    "    print 'iter = ', i\n",
    "    for j, ind in enumerate(net.blobs['inds'].data):\n",
    "        row = j / 32\n",
    "        col = j % 32\n",
    "        #print 'j = ', ind\n",
    "        #print 'ind = ',ind\n",
    "        #print 'gt joint = ', net.blobs['reshape-joint'].data[row][col].reshape(14, 3)\n",
    "        #print 'pred joint = ', net.blobs['pred_joint'].data[row][col].reshape(14, 3)\n",
    "        #gt_joint = (net.blobs['reshape-joint'].data[row][col].reshape(14, 3) * net.blobs['config'].data[0][0]/2 + net.blobs['com'].data[0].reshape(1, 3)).copy()\n",
    "        if predicted_joints[int(ind) - 1] == None:\n",
    "            predicted_joints[int(ind) - 1] = (net.blobs['pred_joint'].data[row][col].reshape(14, 3)  * net.blobs['config'].data[j][0]/2 + net.blobs['com'].data[j].reshape(1, 3)).copy()\n",
    "        #print 'gt3D joint = ', gt_joint\n",
    "        #print 'pred joint = ', predicted_joints[int(ind) - 1]\n",
    "        #input()\n",
    "t_end = time.time()\n",
    "print 'time elapse {}'.format((t_end - t_start) / 8252)"
   ]
  },
  {
   "cell_type": "code",
   "execution_count": null,
   "metadata": {
    "collapsed": false
   },
   "outputs": [],
   "source": [
    "with open('../results/OURS/hand_lstm_160000.txt', 'w') as f:\n",
    "    for i in xrange(predicted_joints.shape[0]):\n",
    "        for item in predicted_joints[i].reshape(14*3):\n",
    "            f.write(\"%s \"% item)\n",
    "        f.write(\"\\n\")"
   ]
  },
  {
   "cell_type": "code",
   "execution_count": null,
   "metadata": {
    "collapsed": false,
    "scrolled": true
   },
   "outputs": [],
   "source": [
    "solver = None\n",
    "solver = caffe.AdamSolver(solver_prototxt)\n",
    "solver.net.forward()\n",
    "solver.test_nets[0].forward()"
   ]
  },
  {
   "cell_type": "code",
   "execution_count": null,
   "metadata": {
    "collapsed": true
   },
   "outputs": [],
   "source": [
    "def vis_square(data):\n",
    "    \"\"\"Take an array of shape (n, height, width) or (n, height, width, 3)\n",
    "       and visualize each (height, width) thing in a grid of size approx. sqrt(n) by sqrt(n)\"\"\"\n",
    "    \n",
    "    # normalize data for display\n",
    "    data = (data - data.min()) / (data.max() - data.min())\n",
    "    \n",
    "    # force the number of filters to be square\n",
    "    n = int(np.ceil(np.sqrt(data.shape[0])))\n",
    "    padding = (((0, n ** 2 - data.shape[0]),\n",
    "               (0, 1), (0, 1))                 # add some space between filters\n",
    "               + ((0, 0),) * (data.ndim - 3))  # don't pad the last dimension (if there is one)\n",
    "    data = np.pad(data, padding, mode='constant', constant_values=1)  # pad with ones (white)\n",
    "\n",
    "    # tile the filters into an image\n",
    "    data = data.reshape((n, n) + data.shape[1:]).transpose((0, 2, 1, 3) + tuple(range(4, data.ndim + 1)))\n",
    "    data = data.reshape((n * data.shape[1], n * data.shape[3]) + data.shape[4:])\n",
    "    \n",
    "    plt.imshow(data); plt.axis('off')"
   ]
  },
  {
   "cell_type": "code",
   "execution_count": null,
   "metadata": {
    "collapsed": false,
    "scrolled": false
   },
   "outputs": [],
   "source": [
    "net.blobs['fc1'].data[1]"
   ]
  },
  {
   "cell_type": "code",
   "execution_count": null,
   "metadata": {
    "collapsed": false
   },
   "outputs": [],
   "source": [
    "net.blobs['reshape-data'].data[0][1]"
   ]
  },
  {
   "cell_type": "code",
   "execution_count": null,
   "metadata": {
    "collapsed": true
   },
   "outputs": [],
   "source": [
    "plt.hist(net.blobs['lstm'].data[0])"
   ]
  },
  {
   "cell_type": "markdown",
   "metadata": {},
   "source": [
    "### realtime test"
   ]
  },
  {
   "cell_type": "code",
   "execution_count": null,
   "metadata": {
    "collapsed": true
   },
   "outputs": [],
   "source": [
    "import numpy as np\n",
    "import sys\n",
    "sys.path.insert(0, './caffe/python')\n",
    "sys.path.insert(0, './lib')\n",
    "import matplotlib.pyplot as plt\n",
    "import os\n",
    "import caffe\n",
    "import scipy.io as scio"
   ]
  },
  {
   "cell_type": "code",
   "execution_count": null,
   "metadata": {
    "collapsed": true
   },
   "outputs": [],
   "source": [
    "from data.importers import NYUImporter\n",
    "from data.dataset import NYUDataset"
   ]
  },
  {
   "cell_type": "code",
   "execution_count": null,
   "metadata": {
    "collapsed": false,
    "scrolled": true
   },
   "outputs": [],
   "source": [
    "di = NYUImporter('dataset/NYU')\n",
    "seq1 = di.loadSequence('test_1')\n",
    "seq2 = di.loadSequence('test_2')"
   ]
  },
  {
   "cell_type": "code",
   "execution_count": null,
   "metadata": {
    "collapsed": true
   },
   "outputs": [],
   "source": []
  }
 ],
 "metadata": {
  "kernelspec": {
   "display_name": "Python 2",
   "language": "python",
   "name": "python2"
  },
  "language_info": {
   "codemirror_mode": {
    "name": "ipython",
    "version": 2
   },
   "file_extension": ".py",
   "mimetype": "text/x-python",
   "name": "python",
   "nbconvert_exporter": "python",
   "pygments_lexer": "ipython2",
   "version": "2.7.12"
  }
 },
 "nbformat": 4,
 "nbformat_minor": 0
}
