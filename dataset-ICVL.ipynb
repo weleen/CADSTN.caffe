{
 "cells": [
  {
   "cell_type": "markdown",
   "metadata": {},
   "source": [
    "### ICVL"
   ]
  },
  {
   "cell_type": "code",
   "execution_count": 1,
   "metadata": {
    "collapsed": true
   },
   "outputs": [],
   "source": [
    "root = './'\n",
    "\n",
    "dataset = root + 'dataset/ICVL/'\n",
    "cache = root + 'dataset/cache/'\n",
    "\n",
    "trainFile = cache + 'ICVL_train.h5'\n",
    "testFile1 = cache + 'ICVL_test_seq_1.h5'\n",
    "testFile2 = cache + 'ICVL_test_seq_2.h5'"
   ]
  },
  {
   "cell_type": "code",
   "execution_count": 2,
   "metadata": {
    "collapsed": true
   },
   "outputs": [],
   "source": [
    "import h5py\n",
    "import numpy as np\n",
    "import os\n",
    "import matplotlib.pyplot as plt\n",
    "%matplotlib inline"
   ]
  },
  {
   "cell_type": "code",
   "execution_count": 3,
   "metadata": {
    "collapsed": false
   },
   "outputs": [],
   "source": [
    "assert os.path.isfile(trainFile), '{} is not exist!'.format(trainFile)\n",
    "assert os.path.isfile(testFile1), '{} is not exist!'.format(testFile1)\n",
    "assert os.path.isfile(testFile2), '{} is not exist!'.format(testFile2)\n",
    "\n",
    "train = h5py.File(trainFile, 'r')\n",
    "test_1 = h5py.File(testFile1, 'r')\n",
    "test_2 = h5py.File(testFile2, 'r')"
   ]
  },
  {
   "cell_type": "code",
   "execution_count": 4,
   "metadata": {
    "collapsed": false
   },
   "outputs": [
    {
     "data": {
      "text/plain": [
       "[u'com', u'config', u'depth', u'gt3Dorig', u'inds', u'joint']"
      ]
     },
     "execution_count": 4,
     "metadata": {},
     "output_type": "execute_result"
    }
   ],
   "source": [
    "train.keys()"
   ]
  },
  {
   "cell_type": "code",
   "execution_count": 5,
   "metadata": {
    "collapsed": false,
    "scrolled": false
   },
   "outputs": [
    {
     "data": {
      "text/plain": [
       "<matplotlib.image.AxesImage at 0x7f5800219710>"
      ]
     },
     "execution_count": 5,
     "metadata": {},
     "output_type": "execute_result"
    },
    {
     "data": {
      "image/png": "[encoded data removed]",
      "text/plain": [
       "<matplotlib.figure.Figure at 0x7f5800219d90>"
      ]
     },
     "metadata": {},
     "output_type": "display_data"
    }
   ],
   "source": [
    "plt.imshow(train['depth'][0].reshape(128, 128))"
   ]
  },
  {
   "cell_type": "code",
   "execution_count": 31,
   "metadata": {
    "collapsed": false
   },
   "outputs": [
    {
     "data": {
      "text/plain": [
       "array([ 0.32526487, -0.1060641 , -0.00966333], dtype=float32)"
      ]
     },
     "execution_count": 31,
     "metadata": {},
     "output_type": "execute_result"
    }
   ],
   "source": [
    "train['joint'][0][13]"
   ]
  },
  {
   "cell_type": "code",
   "execution_count": 32,
   "metadata": {
    "collapsed": false
   },
   "outputs": [
    {
     "data": {
      "text/plain": [
       "array([-0.53911811,  0.30186313, -0.15151989], dtype=float32)"
      ]
     },
     "execution_count": 32,
     "metadata": {},
     "output_type": "execute_result"
    }
   ],
   "source": [
    "train['joint'][0][1] - train['joint'][0][13] "
   ]
  },
  {
   "cell_type": "code",
   "execution_count": 33,
   "metadata": {
    "collapsed": false
   },
   "outputs": [
    {
     "data": {
      "text/plain": [
       "array([ -8.81614387e-01,   2.50294805e-04,  -2.68879861e-01], dtype=float32)"
      ]
     },
     "execution_count": 33,
     "metadata": {},
     "output_type": "execute_result"
    }
   ],
   "source": [
    "train['joint'][0][3] - train['joint'][0][13] "
   ]
  },
  {
   "cell_type": "code",
   "execution_count": 24,
   "metadata": {
    "collapsed": false,
    "scrolled": true
   },
   "outputs": [
    {
     "data": {
      "text/plain": [
       "(array([  6.10000000e+01,   4.00000000e+00,   4.00000000e+00,\n",
       "          4.00000000e+00,   1.00000000e+00,   3.00000000e+00,\n",
       "          4.00000000e+00,   4.00000000e+00,   3.00000000e+00,\n",
       "          5.00000000e+00,   4.00000000e+00,   3.00000000e+00,\n",
       "          5.00000000e+00,   4.00000000e+00,   4.00000000e+00,\n",
       "          6.00000000e+00,   7.00000000e+00,   1.10000000e+01,\n",
       "          3.00000000e+00,   6.00000000e+00,   1.00000000e+01,\n",
       "          5.00000000e+00,   1.10000000e+01,   6.00000000e+00,\n",
       "          5.00000000e+00,   4.00000000e+00,   6.00000000e+00,\n",
       "          9.00000000e+00,   5.00000000e+00,   3.00000000e+00,\n",
       "          5.00000000e+00,   2.00000000e+00,   5.00000000e+00,\n",
       "          8.00000000e+00,   1.40000000e+01,   7.00000000e+00,\n",
       "          8.00000000e+00,   1.80000000e+01,   8.00000000e+00,\n",
       "          1.10000000e+01,   9.00000000e+00,   9.00000000e+00,\n",
       "          1.10000000e+01,   1.80000000e+01,   2.30000000e+01,\n",
       "          1.50000000e+01,   3.20000000e+01,   2.40000000e+01,\n",
       "          2.00000000e+01,   1.60000000e+01,   1.90000000e+01,\n",
       "          2.20000000e+01,   2.00000000e+01,   2.80000000e+01,\n",
       "          1.40000000e+01,   2.10000000e+01,   2.20000000e+01,\n",
       "          3.30000000e+01,   4.00000000e+01,   2.50000000e+01,\n",
       "          1.70000000e+01,   3.70000000e+01,   3.60000000e+01,\n",
       "          4.50000000e+01,   4.40000000e+01,   3.90000000e+01,\n",
       "          5.00000000e+01,   4.20000000e+01,   4.80000000e+01,\n",
       "          3.90000000e+01,   5.20000000e+01,   3.80000000e+01,\n",
       "          5.50000000e+01,   5.80000000e+01,   6.40000000e+01,\n",
       "          5.80000000e+01,   7.80000000e+01,   8.00000000e+01,\n",
       "          8.50000000e+01,   9.80000000e+01,   9.90000000e+01,\n",
       "          8.60000000e+01,   1.04000000e+02,   1.02000000e+02,\n",
       "          1.10000000e+02,   1.26000000e+02,   1.24000000e+02,\n",
       "          1.26000000e+02,   1.19000000e+02,   1.20000000e+02,\n",
       "          9.30000000e+01,   9.00000000e+01,   8.40000000e+01,\n",
       "          9.50000000e+01,   1.08000000e+02,   1.13000000e+02,\n",
       "          1.05000000e+02,   9.90000000e+01,   1.08000000e+02,\n",
       "          1.19000000e+02,   1.16000000e+02,   1.14000000e+02,\n",
       "          1.06000000e+02,   9.00000000e+01,   1.09000000e+02,\n",
       "          9.50000000e+01,   1.17000000e+02,   1.12000000e+02,\n",
       "          9.90000000e+01,   1.22000000e+02,   1.23000000e+02,\n",
       "          1.20000000e+02,   1.30000000e+02,   1.43000000e+02,\n",
       "          1.62000000e+02,   1.45000000e+02,   1.50000000e+02,\n",
       "          1.80000000e+02,   1.97000000e+02,   1.89000000e+02,\n",
       "          1.80000000e+02,   1.70000000e+02,   1.77000000e+02,\n",
       "          1.82000000e+02,   2.25000000e+02,   2.19000000e+02,\n",
       "          1.84000000e+02,   1.97000000e+02,   1.93000000e+02,\n",
       "          2.26000000e+02,   2.37000000e+02,   2.47000000e+02,\n",
       "          2.22000000e+02,   2.22000000e+02,   2.57000000e+02,\n",
       "          2.60000000e+02,   2.57000000e+02,   2.64000000e+02,\n",
       "          2.45000000e+02,   2.40000000e+02,   2.49000000e+02,\n",
       "          2.49000000e+02,   2.92000000e+02,   2.12000000e+02,\n",
       "          2.39000000e+02,   2.55000000e+02,   2.46000000e+02,\n",
       "          3.12000000e+02,   2.76000000e+02,   2.74000000e+02,\n",
       "          2.83000000e+02,   2.56000000e+02,   2.69000000e+02,\n",
       "          2.67000000e+02,   2.93000000e+02,   2.87000000e+02,\n",
       "          3.11000000e+02,   2.97000000e+02,   3.40000000e+02,\n",
       "          3.34000000e+02,   3.32000000e+02,   3.47000000e+02,\n",
       "          3.57000000e+02,   3.49000000e+02,   3.97000000e+02,\n",
       "          3.85000000e+02,   3.97000000e+02,   3.84000000e+02,\n",
       "          4.63000000e+02,   4.61000000e+02,   4.71000000e+02,\n",
       "          4.37000000e+02,   4.36000000e+02,   4.33000000e+02,\n",
       "          4.37000000e+02,   4.20000000e+02,   4.68000000e+02,\n",
       "          4.55000000e+02,   4.38000000e+02,   4.47000000e+02,\n",
       "          4.57000000e+02,   4.92000000e+02,   5.16000000e+02,\n",
       "          5.26000000e+02,   5.00000000e+02,   5.51000000e+02,\n",
       "          5.26000000e+02,   5.48000000e+02,   5.84000000e+02,\n",
       "          5.54000000e+02,   6.29000000e+02,   5.65000000e+02,\n",
       "          5.87000000e+02,   5.81000000e+02,   6.33000000e+02,\n",
       "          6.31000000e+02,   6.40000000e+02,   6.61000000e+02,\n",
       "          6.37000000e+02,   6.71000000e+02,   6.75000000e+02,\n",
       "          6.06000000e+02,   6.75000000e+02,   6.91000000e+02,\n",
       "          7.09000000e+02,   7.62000000e+02,   7.41000000e+02,\n",
       "          8.08000000e+02,   7.74000000e+02,   7.84000000e+02,\n",
       "          7.84000000e+02,   7.42000000e+02,   7.86000000e+02,\n",
       "          7.55000000e+02,   7.53000000e+02,   7.51000000e+02,\n",
       "          7.49000000e+02,   7.21000000e+02,   7.36000000e+02,\n",
       "          7.49000000e+02,   7.93000000e+02,   7.84000000e+02,\n",
       "          7.34000000e+02,   6.80000000e+02,   7.37000000e+02,\n",
       "          7.28000000e+02,   8.03000000e+02,   7.86000000e+02,\n",
       "          8.91000000e+02,   8.09000000e+02,   8.35000000e+02,\n",
       "          8.54000000e+02,   9.03000000e+02,   9.58000000e+02,\n",
       "          8.81000000e+02,   9.29000000e+02,   9.08000000e+02,\n",
       "          8.87000000e+02,   9.07000000e+02,   8.52000000e+02,\n",
       "          8.94000000e+02,   9.84000000e+02,   9.01000000e+02,\n",
       "          8.62000000e+02,   9.14000000e+02,   9.05000000e+02,\n",
       "          9.01000000e+02,   9.58000000e+02,   9.67000000e+02,\n",
       "          9.87000000e+02,   9.58000000e+02,   9.65000000e+02,\n",
       "          1.00100000e+03,   1.11400000e+03,   1.05700000e+03,\n",
       "          1.11200000e+03,   1.09000000e+03,   1.14200000e+03,\n",
       "          1.14500000e+03,   1.11600000e+03,   1.12200000e+03,\n",
       "          1.11300000e+03,   1.17000000e+03,   1.16600000e+03,\n",
       "          1.22100000e+03,   1.24600000e+03,   1.24500000e+03,\n",
       "          1.24500000e+03,   1.18700000e+03,   1.24700000e+03,\n",
       "          1.26400000e+03,   1.28300000e+03,   1.39600000e+03,\n",
       "          1.33500000e+03,   1.35300000e+03,   1.39700000e+03,\n",
       "          1.42300000e+03,   1.40400000e+03,   1.37700000e+03,\n",
       "          1.38000000e+03,   1.44200000e+03,   1.41200000e+03,\n",
       "          1.54100000e+03,   1.52700000e+03,   1.45500000e+03,\n",
       "          1.50600000e+03,   1.58800000e+03,   1.62500000e+03,\n",
       "          1.64500000e+03,   1.64700000e+03,   1.66500000e+03,\n",
       "          1.70600000e+03,   1.66000000e+03,   1.65800000e+03,\n",
       "          1.63900000e+03,   1.80900000e+03,   1.74700000e+03,\n",
       "          1.77600000e+03,   1.82900000e+03,   1.85800000e+03,\n",
       "          1.81700000e+03,   1.84300000e+03,   1.92200000e+03,\n",
       "          1.97300000e+03,   1.93300000e+03,   1.88900000e+03,\n",
       "          1.94500000e+03,   2.02300000e+03,   2.05700000e+03,\n",
       "          2.11600000e+03,   2.11900000e+03,   2.15200000e+03,\n",
       "          2.11900000e+03,   2.23200000e+03,   2.14300000e+03,\n",
       "          2.16500000e+03,   2.16100000e+03,   2.16200000e+03,\n",
       "          2.26300000e+03,   2.28500000e+03,   2.30700000e+03,\n",
       "          2.29500000e+03,   2.26700000e+03,   2.26500000e+03,\n",
       "          2.31600000e+03,   2.43400000e+03,   2.32000000e+03,\n",
       "          2.39900000e+03,   2.17100000e+03,   2.13900000e+03,\n",
       "          2.30100000e+03,   2.27100000e+03,   2.40400000e+03,\n",
       "          2.39700000e+03,   2.32100000e+03,   2.35600000e+03,\n",
       "          2.35800000e+03,   2.32200000e+03,   2.36000000e+03,\n",
       "          2.46000000e+03,   2.45300000e+03,   2.56800000e+03,\n",
       "          2.52000000e+03,   2.53400000e+03,   2.56000000e+03,\n",
       "          2.60800000e+03,   2.51700000e+03,   2.63800000e+03,\n",
       "          2.66600000e+03,   2.64600000e+03,   2.73500000e+03,\n",
       "          2.81100000e+03,   2.75500000e+03,   2.77300000e+03,\n",
       "          2.69400000e+03,   2.77500000e+03,   2.77700000e+03,\n",
       "          2.82400000e+03,   2.88700000e+03,   2.93100000e+03,\n",
       "          2.99200000e+03,   3.00300000e+03,   3.00700000e+03,\n",
       "          3.01000000e+03,   3.04000000e+03,   3.12500000e+03,\n",
       "          3.08700000e+03,   3.08900000e+03,   3.08500000e+03,\n",
       "          3.11300000e+03,   3.12800000e+03,   3.16900000e+03,\n",
       "          3.25900000e+03,   3.28100000e+03,   3.26500000e+03,\n",
       "          3.34500000e+03,   3.38500000e+03,   3.26800000e+03,\n",
       "          3.29400000e+03,   3.35000000e+03,   3.30200000e+03,\n",
       "          3.31800000e+03,   3.44100000e+03,   3.44000000e+03,\n",
       "          3.43400000e+03,   3.45700000e+03,   3.44800000e+03,\n",
       "          3.40600000e+03,   3.42000000e+03,   3.51600000e+03,\n",
       "          3.55700000e+03,   3.60300000e+03,   3.48600000e+03,\n",
       "          3.42200000e+03,   3.40300000e+03,   3.51700000e+03,\n",
       "          3.55200000e+03,   3.59300000e+03,   3.70900000e+03,\n",
       "          3.60100000e+03,   3.60100000e+03,   3.74200000e+03,\n",
       "          3.64000000e+03,   3.73400000e+03,   3.83000000e+03,\n",
       "          3.72400000e+03,   3.72400000e+03,   3.65700000e+03,\n",
       "          3.59000000e+03,   3.65900000e+03,   3.75700000e+03,\n",
       "          3.60100000e+03,   3.69800000e+03,   3.78600000e+03,\n",
       "          3.65200000e+03,   3.67600000e+03,   3.65600000e+03,\n",
       "          3.67400000e+03,   3.53800000e+03,   3.60900000e+03,\n",
       "          3.57500000e+03,   3.58500000e+03,   3.58700000e+03,\n",
       "          3.72800000e+03,   3.66200000e+03,   3.74200000e+03,\n",
       "          3.69300000e+03,   3.88900000e+03,   3.86300000e+03,\n",
       "          3.83900000e+03,   3.87200000e+03,   3.82400000e+03,\n",
       "          3.77800000e+03,   3.86400000e+03,   3.82100000e+03,\n",
       "          3.82100000e+03,   3.88900000e+03,   3.91900000e+03,\n",
       "          3.88100000e+03,   3.88900000e+03,   3.85200000e+03,\n",
       "          3.87100000e+03,   3.81300000e+03,   3.89100000e+03,\n",
       "          3.75400000e+03,   3.77300000e+03,   3.89100000e+03,\n",
       "          3.74900000e+03,   3.63700000e+03,   3.71000000e+03,\n",
       "          3.61300000e+03,   3.60000000e+03,   3.66600000e+03,\n",
       "          3.70100000e+03,   3.74500000e+03,   3.60200000e+03,\n",
       "          3.36500000e+03,   3.46500000e+03,   3.40300000e+03,\n",
       "          3.57300000e+03,   3.61400000e+03,   3.54700000e+03,\n",
       "          3.48700000e+03,   3.56500000e+03,   3.68800000e+03,\n",
       "          3.59700000e+03,   3.72900000e+03,   3.60900000e+03,\n",
       "          3.70900000e+03,   3.70700000e+03,   3.55600000e+03,\n",
       "          3.47600000e+03,   3.60400000e+03,   3.57200000e+03,\n",
       "          3.53700000e+03,   3.52500000e+03,   3.58500000e+03,\n",
       "          3.53300000e+03,   3.51300000e+03,   3.50700000e+03,\n",
       "          3.38900000e+03,   3.41200000e+03,   3.36200000e+03,\n",
       "          3.39400000e+03,   3.26100000e+03,   3.28200000e+03,\n",
       "          3.23000000e+03,   3.24300000e+03,   3.15800000e+03,\n",
       "          3.15400000e+03,   3.12900000e+03,   2.98700000e+03,\n",
       "          3.18200000e+03,   3.27100000e+03,   3.16600000e+03,\n",
       "          3.15900000e+03,   3.11600000e+03,   3.11800000e+03,\n",
       "          3.11400000e+03,   3.06100000e+03,   3.18700000e+03,\n",
       "          3.00800000e+03,   3.03000000e+03,   3.06300000e+03,\n",
       "          3.00000000e+03,   3.09400000e+03,   3.02700000e+03,\n",
       "          3.03200000e+03,   2.88100000e+03,   2.95700000e+03,\n",
       "          2.93000000e+03,   2.93900000e+03,   2.88600000e+03,\n",
       "          2.86100000e+03,   2.89300000e+03,   2.75100000e+03,\n",
       "          2.69400000e+03,   2.61000000e+03,   2.67300000e+03,\n",
       "          2.71100000e+03,   2.60400000e+03,   2.53900000e+03,\n",
       "          2.64600000e+03,   2.55400000e+03,   2.57800000e+03,\n",
       "          2.54700000e+03,   2.53700000e+03,   2.61800000e+03,\n",
       "          2.55700000e+03,   2.42800000e+03,   2.30400000e+03,\n",
       "          2.44800000e+03,   2.27500000e+03,   2.33400000e+03,\n",
       "          2.26300000e+03,   2.21100000e+03,   2.32500000e+03,\n",
       "          2.17000000e+03,   2.20000000e+03,   2.06500000e+03,\n",
       "          2.02700000e+03,   2.11000000e+03,   2.13800000e+03,\n",
       "          2.14500000e+03,   2.05300000e+03,   2.05700000e+03,\n",
       "          2.07700000e+03,   2.03800000e+03,   1.98800000e+03,\n",
       "          1.87000000e+03,   1.96700000e+03,   1.93500000e+03,\n",
       "          1.87800000e+03,   1.82900000e+03,   1.91100000e+03,\n",
       "          1.97200000e+03,   1.85300000e+03,   1.76100000e+03,\n",
       "          1.77600000e+03,   1.78900000e+03,   1.78000000e+03,\n",
       "          1.87700000e+03,   1.77000000e+03,   1.68100000e+03,\n",
       "          1.67900000e+03,   1.71000000e+03,   1.73500000e+03,\n",
       "          1.77800000e+03,   1.76400000e+03,   1.66900000e+03,\n",
       "          1.61500000e+03,   1.65300000e+03,   1.65900000e+03,\n",
       "          1.63200000e+03,   1.55100000e+03,   1.55600000e+03,\n",
       "          1.60000000e+03,   1.55900000e+03,   1.56100000e+03,\n",
       "          1.58800000e+03,   1.48800000e+03,   1.51000000e+03,\n",
       "          1.50100000e+03,   1.48300000e+03,   1.45500000e+03,\n",
       "          1.38000000e+03,   1.42400000e+03,   1.33200000e+03,\n",
       "          1.24200000e+03,   1.30100000e+03,   1.30800000e+03,\n",
       "          1.24100000e+03,   1.26300000e+03,   1.33100000e+03,\n",
       "          1.36000000e+03,   1.27400000e+03,   1.31100000e+03,\n",
       "          1.25300000e+03,   1.23900000e+03,   1.17400000e+03,\n",
       "          1.17900000e+03,   1.13800000e+03,   1.09300000e+03,\n",
       "          1.12400000e+03,   1.10000000e+03,   1.11500000e+03,\n",
       "          1.15700000e+03,   1.16200000e+03,   1.08300000e+03,\n",
       "          1.10200000e+03,   1.07900000e+03,   1.03700000e+03,\n",
       "          1.02000000e+03,   1.08700000e+03,   9.70000000e+02,\n",
       "          1.00900000e+03,   1.00500000e+03,   1.00300000e+03,\n",
       "          8.68000000e+02,   9.06000000e+02,   9.50000000e+02,\n",
       "          9.27000000e+02,   8.53000000e+02,   9.29000000e+02,\n",
       "          8.90000000e+02,   8.47000000e+02,   9.11000000e+02,\n",
       "          8.82000000e+02,   8.83000000e+02,   8.43000000e+02,\n",
       "          8.63000000e+02,   8.94000000e+02,   8.71000000e+02,\n",
       "          7.90000000e+02,   7.68000000e+02,   7.65000000e+02,\n",
       "          7.45000000e+02,   7.28000000e+02,   6.50000000e+02,\n",
       "          6.92000000e+02,   7.03000000e+02,   7.62000000e+02,\n",
       "          6.91000000e+02,   7.35000000e+02,   7.35000000e+02,\n",
       "          7.50000000e+02,   6.68000000e+02,   6.44000000e+02,\n",
       "          6.23000000e+02,   6.01000000e+02,   5.74000000e+02,\n",
       "          5.93000000e+02,   5.98000000e+02,   6.33000000e+02,\n",
       "          5.85000000e+02,   6.10000000e+02,   5.74000000e+02,\n",
       "          6.24000000e+02,   5.95000000e+02,   5.41000000e+02,\n",
       "          5.90000000e+02,   6.02000000e+02,   5.62000000e+02,\n",
       "          5.13000000e+02,   4.74000000e+02,   5.12000000e+02,\n",
       "          4.41000000e+02,   4.65000000e+02,   4.74000000e+02,\n",
       "          4.43000000e+02,   4.28000000e+02,   4.28000000e+02,\n",
       "          4.38000000e+02,   3.88000000e+02,   4.21000000e+02,\n",
       "          3.83000000e+02,   3.87000000e+02,   3.69000000e+02,\n",
       "          3.80000000e+02,   3.64000000e+02,   3.63000000e+02,\n",
       "          3.44000000e+02,   2.74000000e+02,   2.95000000e+02,\n",
       "          3.10000000e+02,   2.97000000e+02,   2.57000000e+02,\n",
       "          2.54000000e+02,   2.97000000e+02,   2.74000000e+02,\n",
       "          2.73000000e+02,   2.27000000e+02,   2.45000000e+02,\n",
       "          2.52000000e+02,   2.05000000e+02,   2.50000000e+02,\n",
       "          2.64000000e+02,   2.01000000e+02,   2.85000000e+02,\n",
       "          2.49000000e+02,   2.42000000e+02,   2.56000000e+02,\n",
       "          2.14000000e+02,   2.15000000e+02,   2.27000000e+02,\n",
       "          2.20000000e+02,   1.99000000e+02,   2.01000000e+02,\n",
       "          2.21000000e+02,   2.15000000e+02,   1.94000000e+02,\n",
       "          2.17000000e+02,   1.96000000e+02,   1.85000000e+02,\n",
       "          1.67000000e+02,   1.71000000e+02,   1.55000000e+02,\n",
       "          1.69000000e+02,   1.47000000e+02,   1.56000000e+02,\n",
       "          1.28000000e+02,   1.29000000e+02,   1.40000000e+02,\n",
       "          1.37000000e+02,   1.33000000e+02,   1.35000000e+02,\n",
       "          1.44000000e+02,   9.90000000e+01,   1.06000000e+02,\n",
       "          1.01000000e+02,   1.10000000e+02,   9.80000000e+01,\n",
       "          9.80000000e+01,   1.13000000e+02,   1.12000000e+02,\n",
       "          1.07000000e+02,   9.80000000e+01,   9.20000000e+01,\n",
       "          1.02000000e+02,   1.24000000e+02,   1.14000000e+02,\n",
       "          9.10000000e+01,   9.30000000e+01,   1.01000000e+02,\n",
       "          7.70000000e+01,   8.10000000e+01,   8.50000000e+01,\n",
       "          8.50000000e+01,   7.90000000e+01,   7.70000000e+01,\n",
       "          7.40000000e+01,   7.70000000e+01,   7.90000000e+01,\n",
       "          7.00000000e+01,   4.80000000e+01,   4.50000000e+01,\n",
       "          5.40000000e+01,   5.00000000e+01,   5.40000000e+01,\n",
       "          3.60000000e+01,   4.70000000e+01,   4.90000000e+01,\n",
       "          5.50000000e+01,   3.80000000e+01,   4.50000000e+01,\n",
       "          2.50000000e+01,   3.00000000e+01,   2.40000000e+01,\n",
       "          2.50000000e+01,   3.80000000e+01,   3.90000000e+01,\n",
       "          2.50000000e+01,   2.50000000e+01,   2.60000000e+01,\n",
       "          1.20000000e+01,   2.10000000e+01,   2.10000000e+01,\n",
       "          1.70000000e+01,   1.30000000e+01,   1.20000000e+01,\n",
       "          1.50000000e+01,   1.60000000e+01,   1.70000000e+01,\n",
       "          1.90000000e+01,   1.70000000e+01,   1.70000000e+01,\n",
       "          1.20000000e+01,   1.40000000e+01,   1.30000000e+01,\n",
       "          1.20000000e+01,   1.20000000e+01,   1.10000000e+01,\n",
       "          1.20000000e+01,   8.00000000e+00,   1.40000000e+01,\n",
       "          1.70000000e+01,   8.00000000e+00,   4.00000000e+00,\n",
       "          1.60000000e+01,   6.00000000e+00,   8.00000000e+00,\n",
       "          9.00000000e+00,   9.00000000e+00,   9.00000000e+00,\n",
       "          7.00000000e+00,   2.00000000e+00,   2.00000000e+00,\n",
       "          7.00000000e+00,   3.00000000e+00,   5.00000000e+00,\n",
       "          3.00000000e+00,   2.00000000e+00,   4.00000000e+00,\n",
       "          5.00000000e+00,   2.00000000e+00,   2.00000000e+00,\n",
       "          2.00000000e+00,   0.00000000e+00,   0.00000000e+00,\n",
       "          2.00000000e+00,   1.00000000e+00,   0.00000000e+00,\n",
       "          0.00000000e+00,   0.00000000e+00,   0.00000000e+00,\n",
       "          0.00000000e+00,   0.00000000e+00,   0.00000000e+00,\n",
       "          0.00000000e+00,   0.00000000e+00,   0.00000000e+00,\n",
       "          0.00000000e+00,   0.00000000e+00,   0.00000000e+00,\n",
       "          0.00000000e+00,   0.00000000e+00,   0.00000000e+00,\n",
       "          0.00000000e+00,   0.00000000e+00,   0.00000000e+00,\n",
       "          0.00000000e+00,   0.00000000e+00,   0.00000000e+00,\n",
       "          0.00000000e+00,   1.00000000e+00,   0.00000000e+00,\n",
       "          0.00000000e+00,   0.00000000e+00,   0.00000000e+00,\n",
       "          0.00000000e+00,   0.00000000e+00,   0.00000000e+00,\n",
       "          0.00000000e+00,   0.00000000e+00,   0.00000000e+00,\n",
       "          0.00000000e+00,   0.00000000e+00,   0.00000000e+00,\n",
       "          0.00000000e+00,   0.00000000e+00,   0.00000000e+00,\n",
       "          0.00000000e+00,   0.00000000e+00,   0.00000000e+00,\n",
       "          0.00000000e+00,   1.00000000e+00,   0.00000000e+00,\n",
       "          1.00000000e+00,   0.00000000e+00,   0.00000000e+00,\n",
       "          0.00000000e+00,   0.00000000e+00,   0.00000000e+00,\n",
       "          0.00000000e+00,   0.00000000e+00,   1.00000000e+00,\n",
       "          0.00000000e+00,   0.00000000e+00,   0.00000000e+00,\n",
       "          0.00000000e+00,   1.00000000e+00,   0.00000000e+00,\n",
       "          0.00000000e+00,   0.00000000e+00,   0.00000000e+00,\n",
       "          0.00000000e+00,   0.00000000e+00,   0.00000000e+00,\n",
       "          1.00000000e+00,   0.00000000e+00,   0.00000000e+00,\n",
       "          0.00000000e+00,   0.00000000e+00,   0.00000000e+00,\n",
       "          0.00000000e+00,   0.00000000e+00,   1.00000000e+00,\n",
       "          0.00000000e+00,   0.00000000e+00,   1.00000000e+00,\n",
       "          0.00000000e+00,   0.00000000e+00,   0.00000000e+00,\n",
       "          0.00000000e+00,   0.00000000e+00,   1.00000000e+00,\n",
       "          0.00000000e+00,   1.00000000e+00,   0.00000000e+00,\n",
       "          0.00000000e+00,   0.00000000e+00,   0.00000000e+00,\n",
       "          0.00000000e+00,   0.00000000e+00,   0.00000000e+00,\n",
       "          1.00000000e+00,   0.00000000e+00,   0.00000000e+00,\n",
       "          0.00000000e+00,   0.00000000e+00,   1.00000000e+00,\n",
       "          0.00000000e+00,   0.00000000e+00,   0.00000000e+00,\n",
       "          0.00000000e+00,   0.00000000e+00,   0.00000000e+00,\n",
       "          0.00000000e+00,   0.00000000e+00,   0.00000000e+00,\n",
       "          0.00000000e+00,   0.00000000e+00,   0.00000000e+00,\n",
       "          0.00000000e+00,   0.00000000e+00,   0.00000000e+00,\n",
       "          0.00000000e+00,   0.00000000e+00,   0.00000000e+00,\n",
       "          0.00000000e+00,   0.00000000e+00,   0.00000000e+00,\n",
       "          0.00000000e+00,   0.00000000e+00,   0.00000000e+00,\n",
       "          0.00000000e+00,   0.00000000e+00,   0.00000000e+00,\n",
       "          0.00000000e+00,   1.00000000e+00,   0.00000000e+00,\n",
       "          1.00000000e+00,   0.00000000e+00,   0.00000000e+00,\n",
       "          0.00000000e+00,   0.00000000e+00,   0.00000000e+00,\n",
       "          0.00000000e+00,   0.00000000e+00,   0.00000000e+00,\n",
       "          0.00000000e+00,   0.00000000e+00,   0.00000000e+00,\n",
       "          0.00000000e+00,   0.00000000e+00,   0.00000000e+00,\n",
       "          0.00000000e+00,   0.00000000e+00,   0.00000000e+00,\n",
       "          0.00000000e+00,   0.00000000e+00,   0.00000000e+00,\n",
       "          1.00000000e+00,   0.00000000e+00,   0.00000000e+00,\n",
       "          0.00000000e+00,   0.00000000e+00,   0.00000000e+00,\n",
       "          0.00000000e+00,   0.00000000e+00,   0.00000000e+00,\n",
       "          0.00000000e+00,   0.00000000e+00,   0.00000000e+00,\n",
       "          0.00000000e+00,   0.00000000e+00,   0.00000000e+00,\n",
       "          0.00000000e+00,   0.00000000e+00,   0.00000000e+00,\n",
       "          0.00000000e+00,   0.00000000e+00,   0.00000000e+00,\n",
       "          0.00000000e+00,   0.00000000e+00,   0.00000000e+00,\n",
       "          0.00000000e+00,   0.00000000e+00,   0.00000000e+00,\n",
       "          2.70000000e+01]),\n",
       " array([-1.   , -0.998, -0.996, ...,  0.996,  0.998,  1.   ]),\n",
       " <a list of 1000 Patch objects>)"
      ]
     },
     "execution_count": 24,
     "metadata": {},
     "output_type": "execute_result"
    },
    {
     "data": {
      "image/png": "[encoded data removed]",
      "text/plain": [
       "<matplotlib.figure.Figure at 0x7f578d9afa90>"
      ]
     },
     "metadata": {},
     "output_type": "display_data"
    }
   ],
   "source": [
    "plt.hist(np.array(train['joint']).reshape(-1), 1000)"
   ]
  },
  {
   "cell_type": "code",
   "execution_count": 26,
   "metadata": {
    "collapsed": false,
    "scrolled": true
   },
   "outputs": [
    {
     "data": {
      "text/plain": [
       "(array([   1.,    0.,    0.,    0.,    0.,    0.,    0.,    0.,    1.,\n",
       "           0.,    1.,    1.,    1.,    1.,    0.,    0.,    1.,    0.,\n",
       "           0.,    0.,    0.,    0.,    0.,    1.,    0.,    0.,    1.,\n",
       "           0.,    0.,    0.,    0.,    1.,    1.,    0.,    0.,    1.,\n",
       "           1.,    1.,    0.,    0.,    2.,    0.,    1.,    0.,    0.,\n",
       "           3.,    0.,    2.,    1.,    1.,    1.,    1.,    4.,    1.,\n",
       "           1.,    4.,    2.,    3.,    1.,    2.,    3.,    3.,    3.,\n",
       "           5.,    5.,    1.,    4.,    5.,    0.,    5.,    6.,    2.,\n",
       "           3.,    4.,    3.,    5.,    7.,    8.,    4.,    9.,    4.,\n",
       "           9.,    9.,   12.,    4.,   14.,    7.,   10.,   12.,   11.,\n",
       "          11.,    6.,    5.,   12.,   16.,    8.,    9.,   14.,   10.,\n",
       "           8.,   11.,    5.,    8.,    9.,    8.,    6.,    8.,   10.,\n",
       "          12.,   11.,   11.,    7.,    8.,    9.,   11.,   10.,    9.,\n",
       "          10.,    9.,    5.,    7.,    3.,    8.,    9.,    7.,    4.,\n",
       "           4.,    5.,    6.,    8.,    6.,    7.,    9.,    9.,    9.,\n",
       "          10.,    8.,    6.,    9.,   12.,    8.,    7.,    9.,   12.,\n",
       "          10.,   14.,   11.,   10.,    9.,   12.,   14.,    8.,   17.,\n",
       "           8.,   12.,    7.,   21.,   12.,   22.,   27.,    8.,   21.,\n",
       "          20.,   16.,   20.,   17.,   24.,   16.,   14.,   14.,   20.,\n",
       "          15.,   11.,   15.,   22.,   19.,   18.,   14.,   24.,   17.,\n",
       "          16.,   19.,   20.,   24.,   23.,   15.,   16.,   21.,   14.,\n",
       "          17.,   23.,   20.,   14.,   20.,   21.,   18.,   23.,   14.,\n",
       "          20.,   16.,   14.,   10.,   30.,   23.,   27.,   19.,   20.,\n",
       "          17.,   26.,   23.,   21.,   24.,   26.,   23.,   26.,   35.,\n",
       "          14.,   23.,   31.,   30.,   24.,   23.,   25.,   34.,   24.,\n",
       "          27.,   27.,   25.,   32.,   19.,   20.,   28.,   31.,   12.,\n",
       "          30.,   25.,   23.,   23.,   25.,   19.,   19.,   29.,   31.,\n",
       "          25.,   34.,   28.,   24.,   19.,   17.,   27.,   26.,   23.,\n",
       "          19.,   24.,   21.,   18.,   28.,   25.,   28.,   31.,   22.,\n",
       "          32.,   28.,   38.,   27.,   22.,   28.,   30.,   27.,   34.,\n",
       "          32.,   34.,   37.,   33.,   30.,   34.,   26.,   31.,   34.,\n",
       "          46.,   39.,   45.,   34.,   33.,   32.,   36.,   32.,   50.,\n",
       "          36.,   42.,   39.,   37.,   30.,   44.,   38.,   40.,   21.,\n",
       "          34.,   38.,   34.,   31.,   24.,   40.,   30.,   30.,   29.,\n",
       "          34.,   37.,   36.,   31.,   42.,   48.,   35.,   45.,   40.,\n",
       "          35.,   32.,   39.,   45.,   44.,   34.,   35.,   42.,   44.,\n",
       "          39.,   48.,   46.,   50.,   48.,   50.,   49.,   46.,   49.,\n",
       "          52.,   53.,   40.,   46.,   61.,   41.,   59.,   44.,   50.,\n",
       "          70.,   51.,   57.,   61.,   56.,   43.,   60.,   53.,   63.,\n",
       "          65.,   57.,   70.,   66.,   66.,   62.,   67.,   68.,   58.,\n",
       "          72.,   48.,   54.,   59.,   56.,   60.,   65.,   49.,   79.,\n",
       "          67.,   79.,   62.,   63.,   75.,   60.,   48.,   72.,   75.,\n",
       "          72.,   71.,   78.,   80.,   62.,   62.,   64.,   67.,   69.,\n",
       "          78.,   85.,   61.,   58.,   85.,   73.,   61.,   75.,   70.,\n",
       "          83.,   87.,   82.,   76.,   71.,   70.,   74.,   64.,   86.,\n",
       "          67.,   65.,   84.,   72.,   87.,   92.,   87.,   86.,   63.,\n",
       "          96.,   64.,   76.,   70.,   81.,   89.,   82.,   84.,   97.,\n",
       "          89.,   80.,   58.,   83.,   89.,   94.,   77.,   85.,   74.,\n",
       "          90.,   78.,   65.,   95.,   93.,   91.,   69.,   89.,   87.,\n",
       "          83.,  107.,   79.,   88.,   81.,  106.,   89.,   98.,  100.,\n",
       "         108.,   93.,  107.,   95.,   90.,  102.,   86.,   99.,   71.,\n",
       "          84.,   95.,   74.,   84.,   83.,   89.,   84.,   91.,  102.,\n",
       "          87.,   98.,  107.,   93.,  109.,   96.,   95.,   99.,   93.,\n",
       "         114.,   97.,   97.,  107.,  109.,  111.,   91.,   84.,  103.,\n",
       "          95.,   95.,   99.,  101.,   78.,  113.,  119.,  109.,   91.,\n",
       "         104.,  100.,  104.,   99.,  113.,   99.,  101.,   99.,  120.,\n",
       "          88.,  101.,   83.,   85.,   88.,  108.,   97.,   92.,   94.,\n",
       "         103.,   99.,   94.,   96.,   99.,   89.,   71.,   88.,   95.,\n",
       "          77.,   81.,  107.,   93.,   99.,   91.,   90.,   98.,   68.,\n",
       "          93.,   92.,   82.,   78.,   88.,   66.,   80.,   76.,   98.,\n",
       "          79.,   98.,   89.,   76.,   84.,   75.,  104.,   64.,   74.,\n",
       "          68.,   66.,   60.,   83.,   85.,   78.,   73.,   76.,   72.,\n",
       "          62.,   72.,   67.,   70.,   86.,   55.,   50.,   62.,   74.,\n",
       "          54.,   55.,   58.,   53.,   56.,   59.,   50.,   70.,   58.,\n",
       "          53.,   64.,   44.,   49.,   58.,   51.,   41.,   44.,   42.,\n",
       "          36.,   55.,   37.,   50.,   33.,   48.,   42.,   47.,   53.,\n",
       "          66.,   49.,   48.,   61.,   45.,   56.,   43.,   62.,   52.,\n",
       "          57.,   67.,   57.,   56.,   57.,   41.,   47.,   52.,   46.,\n",
       "          52.,   51.,   48.,   52.,   38.,   59.,   38.,   61.,   46.,\n",
       "          57.,   52.,   49.,   63.,   46.,   41.,   46.,   54.,   44.,\n",
       "          53.,   58.,   59.,   41.,   43.,   46.,   40.,   44.,   33.,\n",
       "          35.,   43.,   33.,   35.,   35.,   34.,   42.,   27.,   32.,\n",
       "          42.,   25.,   30.,   30.,   42.,   38.,   30.,   32.,   26.,\n",
       "          38.,   30.,   28.,   35.,   46.,   37.,   51.,   23.,   38.,\n",
       "          38.,   30.,   34.,   25.,   28.,   39.,   43.,   23.,   30.,\n",
       "          29.,   35.,   25.,   29.,   32.,   32.,   34.,   22.,   37.,\n",
       "          21.,   43.,   29.,   36.,   34.,   32.,   39.,   30.,   35.,\n",
       "          32.,   45.,   31.,   54.,   31.,   34.,   40.,   37.,   38.,\n",
       "          43.,   28.,   32.,   40.,   35.,   23.,   32.,   34.,   20.,\n",
       "          29.,   20.,   22.,   24.,   24.,   22.,   25.,   29.,   28.,\n",
       "          23.,   21.,   20.,   19.,   17.,   25.,   21.,   23.,   25.,\n",
       "          19.,   28.,   19.,   23.,   18.,   22.,   23.,   28.,   31.,\n",
       "          19.,   14.,   31.,   24.,   22.,   23.,   25.,   22.,   33.,\n",
       "          23.,   32.,   24.,   17.,   23.,   22.,   19.,   12.,   33.,\n",
       "          17.,   11.,   22.,   13.,   27.,   19.,   20.,   21.,   18.,\n",
       "          21.,   22.,   18.,   25.,   15.,   26.,   30.,   10.,   28.,\n",
       "          16.,   19.,   18.,   20.,   16.,   23.,   24.,   15.,   21.,\n",
       "          26.,   17.,   16.,   23.,   16.,   14.,   21.,   18.,   14.,\n",
       "          23.,   20.,   16.,   13.,   17.,   24.,   14.,   16.,    9.,\n",
       "          15.,   16.,   11.,   22.,   20.,   13.,   22.,   12.,   13.,\n",
       "          13.,   15.,    8.,   15.,   11.,   11.,   10.,   16.,   13.,\n",
       "           7.,   14.,    7.,    7.,   12.,    8.,   12.,    5.,   14.,\n",
       "           7.,   10.,    3.,    6.,    2.,    4.,    7.,    2.,    3.,\n",
       "           3.,    2.,    5.,    5.,    5.,    8.,    2.,    3.,    6.,\n",
       "           8.,    5.,    3.,    9.,    7.,    6.,    4.,    7.,    1.,\n",
       "           6.,    5.,    5.,    5.,   10.,    5.,    4.,    6.,    7.,\n",
       "          13.,    7.,    3.,    8.,    4.,    6.,    6.,    6.,    8.,\n",
       "           4.,    3.,    4.,    5.,    4.,    4.,    8.,    7.,    8.,\n",
       "           8.,    6.,    5.,   13.,    7.,    5.,    2.,    6.,   11.,\n",
       "           8.,   10.,    9.,    6.,   10.,   10.,    6.,    6.,   13.,\n",
       "           9.,    2.,    8.,    9.,    4.,    8.,    9.,    4.,    2.,\n",
       "           7.,    8.,    3.,    5.,    6.,    5.,    6.,    4.,    3.,\n",
       "           5.,    0.,    3.,    4.,    2.,    4.,    5.,    3.,    3.,\n",
       "           2.,    1.,    1.,    2.,    2.,    1.,    2.,    4.,    3.,\n",
       "           6.,    6.,    1.,    4.,    4.,    3.,    7.,    2.,    5.,\n",
       "           3.,    1.,    3.,    3.,    4.,    0.,    2.,    2.,    4.,\n",
       "           3.,    5.,    3.,    4.,    5.,    2.,    2.,    4.,    6.,\n",
       "           5.,    0.,    5.,    3.,    3.,    3.,    5.,    7.,    4.,\n",
       "           3.,    5.,    2.,    2.,    1.,    1.,    4.,    2.,    4.,\n",
       "           1.,    1.,    2.,    0.,    0.,    3.,    4.,    4.,    1.,\n",
       "           0.,    0.,    1.,    1.,    1.,    1.,    0.,    0.,    0.,    1.]),\n",
       " array([-0.86713988, -0.86571045, -0.86428103, ...,  0.55942288,\n",
       "         0.56085231,  0.56228173]),\n",
       " <a list of 1000 Patch objects>)"
      ]
     },
     "execution_count": 26,
     "metadata": {},
     "output_type": "execute_result"
    },
    {
     "data": {
      "image/png": "[encoded data removed]",
      "text/plain": [
       "<matplotlib.figure.Figure at 0x7f5794ecfb90>"
      ]
     },
     "metadata": {},
     "output_type": "display_data"
    }
   ],
   "source": [
    "plt.hist(np.array(test_1['joint'], test_2['joint']).reshape(-1), 1000)"
   ]
  },
  {
   "cell_type": "code",
   "execution_count": 27,
   "metadata": {
    "collapsed": false
   },
   "outputs": [
    {
     "data": {
      "text/plain": [
       "-0.17892967"
      ]
     },
     "execution_count": 27,
     "metadata": {},
     "output_type": "execute_result"
    }
   ],
   "source": [
    "np.mean(np.array(test_1['joint'], test_2['joint']))"
   ]
  },
  {
   "cell_type": "code",
   "execution_count": 28,
   "metadata": {
    "collapsed": false
   },
   "outputs": [
    {
     "data": {
      "text/plain": [
       "-0.14621343"
      ]
     },
     "execution_count": 28,
     "metadata": {},
     "output_type": "execute_result"
    }
   ],
   "source": [
    "np.mean(np.array(train['joint']))"
   ]
  },
  {
   "cell_type": "code",
   "execution_count": null,
   "metadata": {
    "collapsed": true
   },
   "outputs": [],
   "source": []
  }
 ],
 "metadata": {
  "kernelspec": {
   "display_name": "Python 2",
   "language": "python",
   "name": "python2"
  },
  "language_info": {
   "codemirror_mode": {
    "name": "ipython",
    "version": 2
   },
   "file_extension": ".py",
   "mimetype": "text/x-python",
   "name": "python",
   "nbconvert_exporter": "python",
   "pygments_lexer": "ipython2",
   "version": "2.7.12"
  }
 },
 "nbformat": 4,
 "nbformat_minor": 0
}
