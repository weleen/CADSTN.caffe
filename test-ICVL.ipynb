{
 "cells": [
  {
   "cell_type": "markdown",
   "metadata": {
    "collapsed": true
   },
   "source": [
    "### ICVL"
   ]
  },
  {
   "cell_type": "code",
   "execution_count": 38,
   "metadata": {
    "collapsed": true
   },
   "outputs": [],
   "source": [
    "root = '/home/wuyiming/git/Hand'\n",
    "caffe_root = root + '/caffe'\n",
    "import sys\n",
    "sys.path.insert(0, caffe_root + '/python')\n",
    "sys.path.insert(0, 'lib')\n",
    "sys.path.insert(0, 'lib/data_layer/')\n",
    "sys.path.insert(0, 'lib/data/')\n",
    "sys.path.insert(0, 'lib/util/')\n",
    "\n",
    "import caffe\n",
    "\n",
    "import numpy as np\n",
    "import matplotlib.pyplot as plt\n",
    "%matplotlib inline\n",
    "\n",
    "import h5py\n",
    "from matplotlib.patches import Circle\n",
    "import scipy.io as scio\n",
    "import os\n",
    "import time"
   ]
  },
  {
   "cell_type": "code",
   "execution_count": 136,
   "metadata": {
    "collapsed": true
   },
   "outputs": [],
   "source": [
    "fx = 241.42\n",
    "fy = 241.42\n",
    "ux = 160\n",
    "uy = 120\n",
    "def jointsImgTo3D(sample):\n",
    "    \"\"\"\n",
    "    Normalize sample to metric 3D\n",
    "    :param sample: joints in (x,y,z) with x,y in image coordinates and z in mm\n",
    "    :return: normalized joints in mm\n",
    "    \"\"\"\n",
    "    ret = np.zeros((sample.shape[0], 3), np.float32)\n",
    "    for i in range(sample.shape[0]):\n",
    "        ret[i] = jointImgTo3D(sample[i])\n",
    "    return ret\n",
    "\n",
    "def jointImgTo3D(sample):\n",
    "    \"\"\"\n",
    "    Normalize sample to metric 3D\n",
    "    :param sample: joints in (x,y,z) with x,y in image coordinates and z in mm\n",
    "    :return: normalized joints in mm\n",
    "    \"\"\"\n",
    "    ret = np.zeros((3,), np.float32)\n",
    "    # convert to metric using f, see Thomson et al.\n",
    "    ret[0] = (sample[0] - ux) * sample[2] / fx\n",
    "    ret[1] = (sample[1] - uy) * sample[2] / fy\n",
    "    ret[2] = sample[2]\n",
    "    return ret\n",
    "\n",
    "def loadPredFile(filepath):\n",
    "    import os\n",
    "    assert os.path.isfile(filepath), \"{} is not exists or is not a file!\".format(filepath)\n",
    "    with open(filepath, 'r') as f:\n",
    "        lines = f.readlines()\n",
    "        for index, line in enumerate(lines):\n",
    "            lines[index] = map(float, line.split())\n",
    "        joints = np.array(lines)\n",
    "        print joints.shape\n",
    "        n, d = joints.shape\n",
    "        return joints.reshape(n, d/3, 3)\n",
    "    \n",
    "def getNumFrameWithinMaxDist(gt, joints, dist):\n",
    "    return (np.nanmax(np.sqrt(np.square(gt - joints).sum(axis=2)), axis=1) <= dist).sum()\n",
    "\n",
    "def plotAccuracy(gt, joints, thresh = 80, label='ours'):\n",
    "    fig = plt.figure()\n",
    "    ax = fig.add_subplot(111)\n",
    "    ax.plot([getNumFrameWithinMaxDist(gt, joints, j)/ float(joints.shape[0]) * 100. for j in range(0, 80)], label=label)\n",
    "    ax.grid(True)\n",
    "    plt.xlabel('Distance threshold / mm')\n",
    "    plt.ylabel('Fraction of frames within threshold / %')\n",
    "    plt.xlim((0, 80))\n",
    "    plt.ylim((0.0, 100.0))\n",
    "\n",
    "def predict_joints(model_name, weights_num):\n",
    "    \"\"\"predict joints\"\"\"\n",
    "    model_def = 'models/ICVL/hand_' + model_name + '/hand_' + model_name + '.prototxt'\n",
    "    model_weights = 'weights/ICVL/hand_' + model_name + '/hand_' + model_name + '_iter_' + weights_num + '.caffemodel'\n",
    "\n",
    "    print model_def\n",
    "    print model_weights\n",
    "    \n",
    "    net = caffe.Net(model_def,\n",
    "                   model_weights,\n",
    "                   caffe.TEST)\n",
    "    \n",
    "    file_name = 'result/OURS/ICVL/hand_' + model_name + '_' + weights_num + '.txt'\n",
    "    \n",
    "    import os\n",
    "    if os.path.isfile(file_name):\n",
    "        return file_name\n",
    "    \n",
    "    print file_name\n",
    "    \n",
    "    t_start = time.time()\n",
    "\n",
    "    predicted_joints = np.array([None]* 702)\n",
    "    \n",
    "    if model_name == 'baseline':\n",
    "        frame_size, joint_size, = net.blobs['joint_pred'].data.shape\n",
    "        seq_size = 1\n",
    "    else:\n",
    "        frame_size, seq_size, joint_size = net.blobs['pred_joint'].data.shape\n",
    "    dim = 3\n",
    "    \n",
    "    for i in xrange(np.int(np.ceil(702./ (frame_size * seq_size)))):\n",
    "        net.forward()\n",
    "        print 'test iter = ', i\n",
    "        for j, ind in enumerate(net.blobs['inds'].data):\n",
    "            row = j / seq_size\n",
    "            col = j % seq_size\n",
    "            if predicted_joints[int(ind)] == None:\n",
    "                predicted_joints[int(ind)] = (net.blobs['pred_joint'].data[row][col].reshape(16, 3) \\\n",
    "                                              * net.blobs['config'].data[j][0] / 2 \\\n",
    "                                              + net.blobs['com'].data[j].reshape(1, 3)).copy()\n",
    "    t_end = time.time()\n",
    "    print 'time elapse {}'.format((t_end - t_start) / 702)\n",
    "    \n",
    "    with open(file_name, 'w') as f:\n",
    "        for i in xrange(predicted_joints.shape[0]):\n",
    "            for item in predicted_joints[i].reshape(16*3):\n",
    "                f.write(\"%s \"% item)\n",
    "            f.write(\"\\n\")\n",
    "     \n",
    "    return file_name\n",
    "\n",
    "def vis_square(data):\n",
    "    \"\"\"Take an array of shape (n, height, width) or (n, height, width, 3)\n",
    "       and visualize each (height, width) thing in a grid of size approx. sqrt(n) by sqrt(n)\"\"\"\n",
    "    \n",
    "    # normalize data for display\n",
    "    data = (data - data.min()) / (data.max() - data.min())\n",
    "    \n",
    "    # force the number of filters to be square\n",
    "    n = int(np.ceil(np.sqrt(data.shape[0])))\n",
    "    padding = (((0, n ** 2 - data.shape[0]),\n",
    "               (0, 1), (0, 1))                 # add some space between filters\n",
    "               + ((0, 0),) * (data.ndim - 3))  # don't pad the last dimension (if there is one)\n",
    "    data = np.pad(data, padding, mode='constant', constant_values=1)  # pad with ones (white)\n",
    "\n",
    "    # tile the filters into an image\n",
    "    data = data.reshape((n, n) + data.shape[1:]).transpose((0, 2, 1, 3) + tuple(range(4, data.ndim + 1)))\n",
    "    data = data.reshape((n * data.shape[1], n * data.shape[3]) + data.shape[4:])\n",
    "    \n",
    "    plt.imshow(data); plt.axis('off')"
   ]
  },
  {
   "cell_type": "markdown",
   "metadata": {},
   "source": [
    "### test"
   ]
  },
  {
   "cell_type": "code",
   "execution_count": 6,
   "metadata": {
    "collapsed": false
   },
   "outputs": [
    {
     "name": "stdout",
     "output_type": "stream",
     "text": [
      "size of dataset is test1: 702\n",
      "dataset: ICVL phase: test_1\n",
      "Outputs:  ['depth', 'joint', 'clip_markers', 'com', 'config', 'inds']\n"
     ]
    }
   ],
   "source": [
    "caffe.set_device(0)\n",
    "caffe.set_mode_gpu()\n",
    "net = caffe.Net('./models/ICVL/hand_lstm_small_frame_size/hand_lstm_small_frame_size.prototxt', \n",
    "                './weights/ICVL/hand_lstm_small_frame_size/hand_lstm_small_frame_size_iter_200000.caffemodel',\n",
    "                caffe.TEST)"
   ]
  },
  {
   "cell_type": "markdown",
   "metadata": {},
   "source": [
    "### Read ground truth"
   ]
  },
  {
   "cell_type": "code",
   "execution_count": 139,
   "metadata": {
    "collapsed": false
   },
   "outputs": [],
   "source": [
    "gt_file = './dataset/ICVL/test_seq_1.txt'\n",
    "gt = []\n",
    "f = open(gt_file, 'r')\n",
    "lines = f.readlines()\n",
    "for line in lines:\n",
    "    gt.append(map(float, line.split(' ')[1:-1]))\n",
    "gt = np.array(gt)\n",
    "gt3D = []\n",
    "for i in xrange(gt.shape[0]):\n",
    "    gt3D.append(jointsImgTo3D(gt[i].reshape(16, 3)))\n",
    "gt3D = np.array(gt3D)"
   ]
  },
  {
   "cell_type": "code",
   "execution_count": 140,
   "metadata": {
    "collapsed": false
   },
   "outputs": [
    {
     "data": {
      "text/plain": [
       "array([[  30.87788582,   38.85021591,  368.85400391],\n",
       "       [   6.77187777,   51.50400925,  355.86999512],\n",
       "       [ -20.13546371,   34.17987442,  354.85101318],\n",
       "       [ -38.90395737,   18.12351799,  349.55499268],\n",
       "       [   5.42264652,  -11.51812172,  357.78500366],\n",
       "       [  -2.93231583,  -37.45681   ,  347.35998535],\n",
       "       [  -8.47680283,  -55.2942009 ,  343.59799194],\n",
       "       [  27.84412956,  -15.1800518 ,  363.06399536],\n",
       "       [  30.44153023,  -48.11777878,  355.29098511],\n",
       "       [  32.33983612,  -69.76394653,  353.11999512],\n",
       "       [  45.66884232,   -4.60396385,  365.38101196],\n",
       "       [  54.80501938,  -33.34441376,  359.79299927],\n",
       "       [  61.16431046,  -52.92427444,  357.46798706],\n",
       "       [  63.34932327,   10.08257389,  369.03201294],\n",
       "       [  79.11164856,   -7.20125055,  367.94198608],\n",
       "       [  90.86534119,  -20.93623352,  365.125     ]], dtype=float32)"
      ]
     },
     "execution_count": 140,
     "metadata": {},
     "output_type": "execute_result"
    }
   ],
   "source": [
    "gt3D[0]"
   ]
  },
  {
   "cell_type": "code",
   "execution_count": 138,
   "metadata": {
    "collapsed": false
   },
   "outputs": [
    {
     "data": {
      "text/plain": [
       "array([[  30.4537 ,   31.5554 ,  367.849  ],\n",
       "       [   1.78531,   43.6418 ,  353.589  ],\n",
       "       [ -28.5635 ,   26.7316 ,  353.695  ],\n",
       "       [ -48.611  ,   11.9366 ,  350.03   ],\n",
       "       [   2.3439 ,  -21.4219 ,  358.6    ],\n",
       "       [  -5.56242,  -44.9381 ,  348.304  ],\n",
       "       [ -10.6416 ,  -57.7374 ,  343.255  ],\n",
       "       [  27.3949 ,  -23.0857 ,  366.587  ],\n",
       "       [  31.1486 ,  -54.2314 ,  358.09   ],\n",
       "       [  34.0692 ,  -71.8086 ,  351.319  ],\n",
       "       [  46.8118 ,  -12.0764 ,  367.893  ],\n",
       "       [  54.7152 ,  -41.405  ,  361.893  ],\n",
       "       [  60.4714 ,  -58.1645 ,  355.642  ],\n",
       "       [  68.2592 ,    5.5283 ,  370.811  ],\n",
       "       [  83.914  ,  -10.5339 ,  368.719  ],\n",
       "       [  95.3923 ,  -19.0521 ,  360.095  ]])"
      ]
     },
     "execution_count": 138,
     "metadata": {},
     "output_type": "execute_result"
    }
   ],
   "source": [
    "pred_joints[0]"
   ]
  },
  {
   "cell_type": "markdown",
   "metadata": {},
   "source": [
    "### plot by ourselves"
   ]
  },
  {
   "cell_type": "code",
   "execution_count": 39,
   "metadata": {
    "collapsed": false
   },
   "outputs": [],
   "source": [
    "from util.handpose_evaluation import ICVLHandposeEvaluation"
   ]
  },
  {
   "cell_type": "code",
   "execution_count": 141,
   "metadata": {
    "collapsed": false,
    "scrolled": false
   },
   "outputs": [
    {
     "name": "stdout",
     "output_type": "stream",
     "text": [
      "models/ICVL/hand_lstm_small_frame_size/hand_lstm_small_frame_size.prototxt\n",
      "weights/ICVL/hand_lstm_small_frame_size/hand_lstm_small_frame_size_iter_200000.caffemodel\n",
      "size of dataset is test1: 702\n",
      "dataset: ICVL phase: test_1\n",
      "Outputs:  ['depth', 'joint', 'clip_markers', 'com', 'config', 'inds']\n",
      "(702, 48)\n"
     ]
    },
    {
     "data": {
      "image/png": "[encoded data removed]",
      "text/plain": [
       "<matplotlib.figure.Figure at 0x7f92ed8ebad0>"
      ]
     },
     "metadata": {},
     "output_type": "display_data"
    }
   ],
   "source": [
    "model_num = 'lstm_small_frame_size'\n",
    "weights_num = '200000'\n",
    "pred_ours_file = predict_joints(model_num, weights_num)\n",
    "pred_joints = loadPredFile(pred_ours_file)\n",
    "plotAccuracy(gt3D, pred_joints, label='ours')"
   ]
  }
 ],
 "metadata": {
  "kernelspec": {
   "display_name": "Python 2",
   "language": "python",
   "name": "python2"
  },
  "language_info": {
   "codemirror_mode": {
    "name": "ipython",
    "version": 2
   },
   "file_extension": ".py",
   "mimetype": "text/x-python",
   "name": "python",
   "nbconvert_exporter": "python",
   "pygments_lexer": "ipython2",
   "version": "2.7.12"
  }
 },
 "nbformat": 4,
 "nbformat_minor": 0
}
