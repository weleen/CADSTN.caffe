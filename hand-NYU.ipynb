{
 "cells": [
  {
   "cell_type": "markdown",
   "metadata": {},
   "source": [
    "### NYU"
   ]
  },
  {
   "cell_type": "code",
   "execution_count": 1,
   "metadata": {
    "collapsed": true
   },
   "outputs": [],
   "source": [
    "root = '/home/wuyiming/git/Hand'\n",
    "caffe_root = root + '/caffe'\n",
    "import sys\n",
    "sys.path.insert(0, caffe_root + '/python')\n",
    "\n",
    "import caffe\n",
    "\n",
    "import numpy as np\n",
    "import matplotlib.pyplot as plt\n",
    "%matplotlib inline\n",
    "\n",
    "import h5py\n",
    "from matplotlib.patches import Circle\n",
    "import scipy.io as scio\n",
    "import os\n",
    "import time"
   ]
  },
  {
   "cell_type": "code",
   "execution_count": 3,
   "metadata": {
    "collapsed": false
   },
   "outputs": [],
   "source": [
    "fx = 588.03\n",
    "fy = 587.07\n",
    "ux = 320\n",
    "uy = 240\n",
    "def jointsImgTo3D(sample):\n",
    "    \"\"\"\n",
    "    Normalize sample to metric 3D\n",
    "    :param sample: joints in (x,y,z) with x,y in image coordinates and z in mm\n",
    "    :return: normalized joints in mm\n",
    "    \"\"\"\n",
    "    ret = np.zeros((sample.shape[0], 3), np.float32)\n",
    "    for i in range(sample.shape[0]):\n",
    "        ret[i] = jointImgTo3D(sample[i])\n",
    "    return ret\n",
    "\n",
    "def jointImgTo3D(sample):\n",
    "    \"\"\"\n",
    "    Normalize sample to metric 3D\n",
    "    :param sample: joints in (x,y,z) with x,y in image coordinates and z in mm\n",
    "    :return: normalized joints in mm\n",
    "    \"\"\"\n",
    "    ret = np.zeros((3,), np.float32)\n",
    "    # convert to metric using f, see Thomson et al.\n",
    "    ret[0] = (sample[0] - ux) * sample[2] / fx\n",
    "    ret[1] = (uy - sample[1]) * sample[2] / fy\n",
    "    ret[2] = sample[2]\n",
    "    return ret\n",
    "\n",
    "def loadPredFile(filepath):\n",
    "    import os\n",
    "    assert os.path.isfile(filepath), \"{} is not exists or is not a file!\".format(filepath)\n",
    "    with open(filepath, 'r') as f:\n",
    "        lines = f.readlines()\n",
    "        for index, line in enumerate(lines):\n",
    "            lines[index] = map(float, line.split())\n",
    "        joints = np.array(lines)\n",
    "        n, d = joints.shape\n",
    "        return joints.reshape(n, d/3, 3)\n",
    "    \n",
    "def getNumFrameWithinMaxDist(gt, joints, dist):\n",
    "    return (np.nanmax(np.sqrt(np.square(gt - joints).sum(axis=2)), axis=1) <= dist).sum()\n",
    "\n",
    "def plotAccuracy(gt, joints, thresh = 80, label='ours'):\n",
    "    fig = plt.figure()\n",
    "    ax = fig.add_subplot(111)\n",
    "    ax.plot([getNumFrameWithinMaxDist(gt, joints, j)/ float(joints.shape[0]) * 100. for j in range(0, 80)], label=label)\n",
    "    ax.grid(True)\n",
    "    plt.xlabel('Distance threshold / mm')\n",
    "    plt.ylabel('Fraction of frames within threshold / %')\n",
    "    plt.xlim((0, 80))\n",
    "    plt.ylim((0.0, 100.0))\n",
    "\n",
    "def predict_joints(model_name, weights_num):\n",
    "    \"\"\"predict joints\"\"\"\n",
    "    model_def = 'models/NYU/hand_' + model_name + '/hand_' + model_name + '.prototxt'\n",
    "    model_weights = 'weights/NYU/hand_' + model_name + '/hand_' + model_name + '_iter_' + weights_num + '.caffemodel'\n",
    "\n",
    "    print model_def\n",
    "    print model_weights\n",
    "    \n",
    "    net = caffe.Net(model_def,\n",
    "                   model_weights,\n",
    "                   caffe.TEST)\n",
    "    \n",
    "    file_name = 'result/OURS/NYU/hand_' + model_name + '_' + weights_num + '.txt'\n",
    "\n",
    "    import os\n",
    "    if os.path.isfile(file_name):\n",
    "        return file_name\n",
    "    \n",
    "    print file_name\n",
    "    \n",
    "    t_start = time.time()\n",
    "\n",
    "    predicted_joints = np.array([None]* 8252)\n",
    "\n",
    "    for i in xrange(np.int(np.ceil(8252./ net.blobs['inds'].data.shape[0]))):\n",
    "        net.forward()\n",
    "        print 'iter = ', i\n",
    "        for j, ind in enumerate(net.blobs['inds'].data):\n",
    "            row = j / 32\n",
    "            col = j % 32\n",
    "            if predicted_joints[int(ind) - 1] == None:\n",
    "                if model_name == 'baseline':\n",
    "                    if ind <= 2440: # test 1\n",
    "                        predicted_joints[int(ind) - 1] = (net.blobs['joint_pred'].data[j].reshape(14, 3)  * \\\n",
    "                                                          300 / 2 + net.blobs['com'].data[j].reshape(1, 3)).copy()\n",
    "                    else: # test 2\n",
    "                        predicted_joints[int(ind) - 1] = (net.blobs['joint_pred'].data[j].reshape(14, 3) * \\\n",
    "                                                         300 * 0.87 / 2 + net.blobs['com'].data[j].reshape(1, 3)).copy()\n",
    "                else:\n",
    "                    predicted_joints[int(ind) - 1] = (net.blobs['pred_joint'].data[row][col].reshape(14, 3)  * \\\n",
    "                                                      net.blobs['config'].data[j][0]/2 + net.blobs['com'].data[j].reshape(1, 3)).copy()\n",
    "    t_end = time.time()\n",
    "    print 'time elapse {}'.format((t_end - t_start) / 8252)\n",
    "    \n",
    "    with open(file_name, 'w') as f:\n",
    "        for i in xrange(predicted_joints.shape[0]):\n",
    "            for item in predicted_joints[i].reshape(14*3):\n",
    "                f.write(\"%s \"% item)\n",
    "            f.write(\"\\n\")\n",
    "     \n",
    "    return file_name\n",
    "\n",
    "def vis_square(data):\n",
    "    \"\"\"Take an array of shape (n, height, width) or (n, height, width, 3)\n",
    "       and visualize each (height, width) thing in a grid of size approx. sqrt(n) by sqrt(n)\"\"\"\n",
    "    \n",
    "    # normalize data for display\n",
    "    data = (data - data.min()) / (data.max() - data.min())\n",
    "    \n",
    "    # force the number of filters to be square\n",
    "    n = int(np.ceil(np.sqrt(data.shape[0])))\n",
    "    padding = (((0, n ** 2 - data.shape[0]),\n",
    "               (0, 1), (0, 1))                 # add some space between filters\n",
    "               + ((0, 0),) * (data.ndim - 3))  # don't pad the last dimension (if there is one)\n",
    "    data = np.pad(data, padding, mode='constant', constant_values=1)  # pad with ones (white)\n",
    "\n",
    "    # tile the filters into an image\n",
    "    data = data.reshape((n, n) + data.shape[1:]).transpose((0, 2, 1, 3) + tuple(range(4, data.ndim + 1)))\n",
    "    data = data.reshape((n * data.shape[1], n * data.shape[3]) + data.shape[4:])\n",
    "    \n",
    "    plt.imshow(data); plt.axis('off')"
   ]
  },
  {
   "cell_type": "markdown",
   "metadata": {},
   "source": [
    "### train"
   ]
  },
  {
   "cell_type": "code",
   "execution_count": null,
   "metadata": {
    "collapsed": false
   },
   "outputs": [],
   "source": [
    "caffe.set_device(0)\n",
    "caffe.set_mode_gpu()\n",
    "\n",
    "solver = None\n",
    "solver = caffe.AdamSolver('./solver_baseline.prototxt')\n",
    "\n",
    "solver.net.forward()\n",
    "solver.test_nets[0].forward()"
   ]
  },
  {
   "cell_type": "code",
   "execution_count": null,
   "metadata": {
    "collapsed": false
   },
   "outputs": [],
   "source": [
    "img = (solver.net.blobs['depth'].data[0].reshape(128,128))\n",
    "plt.imshow(img)\n",
    "(solver.net.blobs['joint'].data[0]).reshape(14,3)"
   ]
  },
  {
   "cell_type": "markdown",
   "metadata": {},
   "source": [
    "### test"
   ]
  },
  {
   "cell_type": "code",
   "execution_count": 4,
   "metadata": {
    "collapsed": true
   },
   "outputs": [],
   "source": [
    "caffe.set_device(0)\n",
    "caffe.set_mode_gpu()"
   ]
  },
  {
   "cell_type": "code",
   "execution_count": 4,
   "metadata": {
    "collapsed": false
   },
   "outputs": [],
   "source": [
    "net = caffe.Net('models/NYU/hand_baseline/hand_baseline.prototxt', 'weights/NYU/hand_baseline/hand_baseline_iter_60000.caffemodel', caffe.TEST)"
   ]
  },
  {
   "cell_type": "code",
   "execution_count": 5,
   "metadata": {
    "collapsed": false
   },
   "outputs": [
    {
     "data": {
      "text/plain": [
       "{'dummyloss': array(0.06619501858949661, dtype=float32),\n",
       " 'loss': array(0.06619501858949661, dtype=float32)}"
      ]
     },
     "execution_count": 5,
     "metadata": {},
     "output_type": "execute_result"
    }
   ],
   "source": [
    "net.forward()"
   ]
  },
  {
   "cell_type": "markdown",
   "metadata": {
    "collapsed": true
   },
   "source": [
    "## Plot the accuracy of hand pose estimation"
   ]
  },
  {
   "cell_type": "markdown",
   "metadata": {},
   "source": [
    "### read the ground truth"
   ]
  },
  {
   "cell_type": "code",
   "execution_count": 5,
   "metadata": {
    "collapsed": true
   },
   "outputs": [],
   "source": [
    "gt_file = '/mnt/data/NYU-Hands-v2/test/joint_data.mat'\n",
    "data = scio.loadmat(gt_file)\n",
    "kinect_index = 0\n",
    "image_index = 0\n",
    "joint_uvd = data['joint_uvd'][kinect_index, :, :, :]\n",
    "joint_xyz = data['joint_xyz'][kinect_index, :, :, :]\n",
    "restrictedJoint = [0, 3, 6, 9, 12, 15, 18, 21, 24, 25, 27, 30, 31, 32]\n",
    "joint_name = data['joint_names'].reshape(36, 1)"
   ]
  },
  {
   "cell_type": "markdown",
   "metadata": {},
   "source": [
    "#### read the prediction(CVWW 2015)"
   ]
  },
  {
   "cell_type": "code",
   "execution_count": 4,
   "metadata": {
    "collapsed": false
   },
   "outputs": [
    {
     "data": {
      "image/png": "[encoded data removed]",
      "text/plain": [
       "<matplotlib.figure.Figure at 0x7f7734579250>"
      ]
     },
     "metadata": {},
     "output_type": "display_data"
    }
   ],
   "source": [
    "pred_file_CVWW15 = '../result/CVWW15/CVWW15_NYU_Prior.txt'\n",
    "pred_joints = loadPredFile(pred_file_CVWW15)\n",
    "pred_joints3D = []\n",
    "for joints in pred_joints:\n",
    "    joints3D = jointsImgTo3D(joints)\n",
    "    pred_joints3D.append(joints3D)\n",
    "pred_joints3D = np.asarray(pred_joints3D)\n",
    "plotAccuracy(joint_xyz[:, restrictedJoint], pred_joints3D, label='CVWW15')"
   ]
  },
  {
   "cell_type": "code",
   "execution_count": 17,
   "metadata": {
    "collapsed": false
   },
   "outputs": [
    {
     "data": {
      "image/png": "[encoded data removed]",
      "text/plain": [
       "<matplotlib.figure.Figure at 0x7f76f08d8910>"
      ]
     },
     "metadata": {},
     "output_type": "display_data"
    }
   ],
   "source": [
    "pred_file_CVWW15_refine = '../result/CVWW15/CVWW15_NYU_Prior-Refinement.txt'\n",
    "pred_joints = loadPredFile(pred_file_CVWW15_refine)\n",
    "pred_joints3D = []\n",
    "for joints in pred_joints:\n",
    "    joints3D = jointsImgTo3D(joints)\n",
    "    pred_joints3D.append(joints3D)\n",
    "pred_joints3D = np.asarray(pred_joints3D)\n",
    "plotAccuracy(joint_xyz[:, restrictedJoint], pred_joints3D, label='CVWW15')"
   ]
  },
  {
   "cell_type": "code",
   "execution_count": 20,
   "metadata": {
    "collapsed": false
   },
   "outputs": [
    {
     "data": {
      "image/png": "[encoded data removed]",
      "text/plain": [
       "<matplotlib.figure.Figure at 0x7f76f08afa90>"
      ]
     },
     "metadata": {},
     "output_type": "display_data"
    }
   ],
   "source": [
    "pred_file_ICCV = '../result/ICCV15/ICCV15_NYU_Feedback.txt'\n",
    "pred_joints = loadPredFile(pred_file_ICCV)\n",
    "pred_joints3D = []\n",
    "for joints in pred_joints:\n",
    "    joints3D = jointsImgTo3D(joints)\n",
    "    pred_joints3D.append(joints3D)\n",
    "pred_joints3D = np.asarray(pred_joints3D)\n",
    "plotAccuracy(joint_xyz[:, restrictedJoint], pred_joints3D, label='ICCV')"
   ]
  },
  {
   "cell_type": "markdown",
   "metadata": {},
   "source": [
    "#### predicted by ourselves"
   ]
  },
  {
   "cell_type": "code",
   "execution_count": 21,
   "metadata": {
    "collapsed": false,
    "scrolled": false
   },
   "outputs": [
    {
     "data": {
      "image/png": "[encoded data removed]",
      "text/plain": [
       "<matplotlib.figure.Figure at 0x7f76ee3a5c10>"
      ]
     },
     "metadata": {},
     "output_type": "display_data"
    }
   ],
   "source": [
    "pred_ours_file = '../result/OURS/hand_lstm_160000.txt'\n",
    "pred_joints3D = loadPredFile(pred_ours_file)\n",
    "\n",
    "plotAccuracy(joint_xyz[:, restrictedJoint], pred_joints3D, label='CVWW15')"
   ]
  },
  {
   "cell_type": "code",
   "execution_count": 6,
   "metadata": {
    "collapsed": false,
    "scrolled": true
   },
   "outputs": [
    {
     "name": "stdout",
     "output_type": "stream",
     "text": [
      "models/NYU/hand_baseline/hand_baseline.prototxt\n",
      "weights/NYU/hand_baseline/hand_baseline_iter_60000.caffemodel\n",
      "result/OURS/NYU/hand_baseline_60000.txt\n",
      "iter =  0\n",
      "iter =  1\n",
      "iter =  2\n",
      "iter =  3\n",
      "iter =  4\n",
      "iter =  5\n",
      "iter =  6\n",
      "iter =  7\n",
      "iter =  8\n",
      "iter =  9\n",
      "iter =  10\n",
      "iter =  11\n",
      "iter =  12\n",
      "iter =  13\n",
      "iter =  14\n",
      "iter =  15\n",
      "iter =  16\n",
      "iter =  17\n",
      "iter =  18\n",
      "iter =  19\n",
      "iter =  20\n",
      "iter =  21\n",
      "iter =  22\n",
      "iter =  23\n",
      "iter =  24\n",
      "iter =  25\n",
      "iter =  26\n",
      "iter =  27\n",
      "iter =  28\n",
      "iter =  29\n",
      "iter =  30\n",
      "iter =  31\n",
      "iter =  32\n",
      "iter =  33\n",
      "iter =  34\n",
      "iter =  35\n",
      "iter =  36\n",
      "iter =  37\n",
      "iter =  38\n",
      "iter =  39\n",
      "iter =  40\n",
      "iter =  41\n",
      "iter =  42\n",
      "iter =  43\n",
      "iter =  44\n",
      "iter =  45\n",
      "iter =  46\n",
      "iter =  47\n",
      "iter =  48\n",
      "iter =  49\n",
      "iter =  50\n",
      "iter =  51\n",
      "iter =  52\n",
      "iter =  53\n",
      "iter =  54\n",
      "iter =  55\n",
      "iter =  56\n",
      "iter =  57\n",
      "iter =  58\n",
      "iter =  59\n",
      "iter =  60\n",
      "iter =  61\n",
      "iter =  62\n",
      "iter =  63\n",
      "iter =  64\n",
      "iter =  65\n",
      "iter =  66\n",
      "iter =  67\n",
      "iter =  68\n",
      "iter =  69\n",
      "iter =  70\n",
      "iter =  71\n",
      "iter =  72\n",
      "iter =  73\n",
      "iter =  74\n",
      "iter =  75\n",
      "iter =  76\n",
      "iter =  77\n",
      "iter =  78\n",
      "iter =  79\n",
      "iter =  80\n",
      "iter =  81\n",
      "iter =  82\n",
      "iter =  83\n",
      "iter =  84\n",
      "iter =  85\n",
      "iter =  86\n",
      "iter =  87\n",
      "iter =  88\n",
      "iter =  89\n",
      "iter =  90\n",
      "iter =  91\n",
      "iter =  92\n",
      "iter =  93\n",
      "iter =  94\n",
      "iter =  95\n",
      "iter =  96\n",
      "iter =  97\n",
      "iter =  98\n",
      "iter =  99\n",
      "iter =  100\n",
      "iter =  101\n",
      "iter =  102\n",
      "iter =  103\n",
      "iter =  104\n",
      "iter =  105\n",
      "iter =  106\n",
      "iter =  107\n",
      "iter =  108\n",
      "iter =  109\n",
      "iter =  110\n",
      "iter =  111\n",
      "iter =  112\n",
      "iter =  113\n",
      "iter =  114\n",
      "iter =  115\n",
      "iter =  116\n",
      "iter =  117\n",
      "iter =  118\n",
      "iter =  119\n",
      "iter =  120\n",
      "iter =  121\n",
      "iter =  122\n",
      "iter =  123\n",
      "iter =  124\n",
      "iter =  125\n",
      "iter =  126\n",
      "iter =  127\n",
      "iter =  128\n",
      "time elapse 0.000560990046715\n"
     ]
    },
    {
     "name": "stderr",
     "output_type": "stream",
     "text": [
      "/home/wuyiming/anaconda2/lib/python2.7/site-packages/ipykernel/__main__.py:83: FutureWarning: comparison to `None` will result in an elementwise object comparison in the future.\n"
     ]
    },
    {
     "data": {
      "image/png": "[encoded data removed]",
      "text/plain": [
       "<matplotlib.figure.Figure at 0x7f9ac55c4110>"
      ]
     },
     "metadata": {},
     "output_type": "display_data"
    }
   ],
   "source": [
    "model_num = 'baseline'\n",
    "weights_num = '60000'\n",
    "pred_ours_file = predict_joints(model_num, weights_num)\n",
    "pred_joints = loadPredFile(pred_ours_file)\n",
    "plotAccuracy(joint_xyz[:, restrictedJoint], pred_joints, label='ours')"
   ]
  }
 ],
 "metadata": {
  "kernelspec": {
   "display_name": "Python 2",
   "language": "python",
   "name": "python2"
  },
  "language_info": {
   "codemirror_mode": {
    "name": "ipython",
    "version": 2
   },
   "file_extension": ".py",
   "mimetype": "text/x-python",
   "name": "python",
   "nbconvert_exporter": "python",
   "pygments_lexer": "ipython2",
   "version": "2.7.12"
  }
 },
 "nbformat": 4,
 "nbformat_minor": 0
}
