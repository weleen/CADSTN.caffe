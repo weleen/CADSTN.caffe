{
 "cells": [
  {
   "cell_type": "code",
   "execution_count": 1,
   "metadata": {
    "collapsed": false
   },
   "outputs": [],
   "source": [
    "import sys\n",
    "sys.path.insert(0, '../caffe/python')\n",
    "sys.path.insert(0, '../lib/data_layer/')\n",
    "sys.path.insert(0, '../lib/data/')\n",
    "sys.path.insert(0, '../lib/util/')\n",
    "import caffe\n",
    "\n",
    "import numpy as np\n",
    "import matplotlib.pyplot as plt\n",
    "%matplotlib inline"
   ]
  },
  {
   "cell_type": "code",
   "execution_count": 2,
   "metadata": {
    "collapsed": false
   },
   "outputs": [
    {
     "name": "stdout",
     "output_type": "stream",
     "text": [
      "size of dataset is 2440 and 5812\n",
      "phase: test\n",
      "Outputs:  ['depth', 'joint', 'clip_markers', 'com', 'config', 'inds']\n"
     ]
    }
   ],
   "source": [
    "prototxt = '../models/hand_lstm/hand_lstm.prototxt'\n",
    "solver_prototxt = '../models/hand_lstm/solver_hand_lstm.prototxt'\n",
    "weight_ = '../weights/hand_lstm/hand_lstm_iter_160000.caffemodel'\n",
    "net = caffe.Net(prototxt, weight_, caffe.TEST)"
   ]
  },
  {
   "cell_type": "code",
   "execution_count": 3,
   "metadata": {
    "collapsed": true
   },
   "outputs": [
    {
     "name": "stdout",
     "output_type": "stream",
     "text": [
      "iter =  0\n",
      "iter =  1\n",
      "iter =  2\n",
      "iter =  3\n",
      "iter =  4\n",
      "iter =  5\n",
      "iter =  6\n",
      "iter =  7\n",
      "iter =  8\n",
      "iter =  9\n",
      "iter =  10\n",
      "iter =  11\n",
      "iter =  12\n",
      "iter =  13\n",
      "iter =  14\n",
      "iter =  15\n",
      "iter =  16\n",
      "time elapse 0.110225968984\n"
     ]
    },
    {
     "name": "stderr",
     "output_type": "stream",
     "text": [
      "/home/wuyiming/anaconda2/lib/python2.7/site-packages/ipykernel/__main__.py:17: FutureWarning: comparison to `None` will result in an elementwise object comparison in the future.\n"
     ]
    }
   ],
   "source": [
    "import time\n",
    "t_start = time.time()\n",
    "\n",
    "predicted_joints = np.array([None]* 8252)\n",
    "\n",
    "for i in xrange(np.int(np.ceil(8252./ net.blobs['inds'].data.shape[0]))):\n",
    "    net.forward()\n",
    "    print 'iter = ', i\n",
    "    for j, ind in enumerate(net.blobs['inds'].data):\n",
    "        row = j / 32\n",
    "        col = j % 32\n",
    "        #print 'j = ', ind\n",
    "        #print 'ind = ',ind\n",
    "        #print 'gt joint = ', net.blobs['reshape-joint'].data[row][col].reshape(14, 3)\n",
    "        #print 'pred joint = ', net.blobs['pred_joint'].data[row][col].reshape(14, 3)\n",
    "        #gt_joint = (net.blobs['reshape-joint'].data[row][col].reshape(14, 3) * net.blobs['config'].data[0][0]/2 + net.blobs['com'].data[0].reshape(1, 3)).copy()\n",
    "        if predicted_joints[int(ind) - 1] == None:\n",
    "            predicted_joints[int(ind) - 1] = (net.blobs['pred_joint'].data[row][col].reshape(14, 3)  * net.blobs['config'].data[0][0]/2 + net.blobs['com'].data[0].reshape(1, 3)).copy()\n",
    "        #print 'gt3D joint = ', gt_joint\n",
    "        #print 'pred joint = ', predicted_joints[int(ind) - 1]\n",
    "        #input()\n",
    "t_end = time.time()\n",
    "print 'time elapse {}'.format((t_end - t_start) / 8252)"
   ]
  },
  {
   "cell_type": "code",
   "execution_count": 77,
   "metadata": {
    "collapsed": false
   },
   "outputs": [
    {
     "data": {
      "text/plain": [
       "array([[ 249.,  249.,  249.],\n",
       "       [ 249.,  249.,  249.],\n",
       "       [ 249.,  249.,  249.],\n",
       "       ..., \n",
       "       [ 300.,  300.,  300.],\n",
       "       [ 300.,  300.,  300.],\n",
       "       [ 300.,  300.,  300.]], dtype=float32)"
      ]
     },
     "execution_count": 77,
     "metadata": {},
     "output_type": "execute_result"
    }
   ],
   "source": [
    "net.blobs['config'].data"
   ]
  },
  {
   "cell_type": "code",
   "execution_count": 76,
   "metadata": {
    "collapsed": false
   },
   "outputs": [
    {
     "data": {
      "text/plain": [
       "0.32711517810821533"
      ]
     },
     "execution_count": 76,
     "metadata": {},
     "output_type": "execute_result"
    }
   ],
   "source": [
    "np.sum(np.sqrt(((net.blobs['pred_joint'].data - net.blobs['reshape-joint'].data)*net.blobs['config'].data[-1][0])**2))/32"
   ]
  },
  {
   "cell_type": "code",
   "execution_count": 86,
   "metadata": {
    "collapsed": false
   },
   "outputs": [
    {
     "data": {
      "text/plain": [
       "array([[ 1.77600718,  1.29080176,  1.77747178,  1.57364583,  1.25077868,\n",
       "         1.42750573,  1.3564688 ,  1.1798017 ,  1.61842978,  1.71955383,\n",
       "         2.09182119,  1.27257216,  1.06166816,  1.44716096,  1.86835611,\n",
       "         2.10498691,  1.65279365,  1.96046793,  1.50495148,  1.70698643,\n",
       "         1.18960261,  1.68627262,  1.33763468,  1.5957073 ,  1.61755276,\n",
       "         1.54820192,  1.25627863,  1.50453675,  1.85500848,  1.79321194,\n",
       "         1.57422113,  1.50421274],\n",
       "       [ 0.92352313,  1.09959579,  1.17120826,  1.41487718,  0.84109408,\n",
       "         0.71042186,  0.79961556,  0.75366104,  0.83480382,  0.91303623,\n",
       "         1.20748615,  0.94876087,  0.83406466,  0.86606789,  1.10188043,\n",
       "         1.5781337 ,  1.16283631,  1.04908943,  0.79920089,  1.04119718,\n",
       "         0.63217038,  0.90378761,  0.86806381,  0.99001503,  1.32267129,\n",
       "         1.02185333,  0.78192747,  0.93497467,  1.1803081 ,  1.6392324 ,\n",
       "         1.35938823,  0.98201019],\n",
       "       [ 1.1424284 ,  0.97993839,  0.86006546,  1.17693818,  0.72991335,\n",
       "         0.63939965,  0.76671112,  0.66981745,  0.74503279,  0.63819349,\n",
       "         1.04380929,  0.76145482,  0.7857222 ,  0.99033755,  0.9518823 ,\n",
       "         1.35523748,  1.16241467,  1.3245734 ,  0.7433089 ,  0.95100349,\n",
       "         0.60588944,  0.83441424,  0.76567423,  0.86975008,  0.95352191,\n",
       "         0.76789105,  0.61260486,  0.76628774,  1.08135068,  1.4778477 ,\n",
       "         1.15858138,  0.76816303],\n",
       "       [ 0.90803879,  0.86304843,  0.92951649,  1.27290869,  0.68340242,\n",
       "         0.58595759,  0.74200684,  0.6332742 ,  0.81431037,  0.85921824,\n",
       "         0.89914656,  0.77066076,  0.63897586,  0.96473193,  1.06425512,\n",
       "         1.34343827,  1.23347735,  1.20540011,  0.87278265,  1.00963378,\n",
       "         0.71749222,  0.80328321,  0.73869789,  0.8369813 ,  0.82375854,\n",
       "         0.77548999,  0.69607109,  0.83740824,  1.20526707,  1.34226334,\n",
       "         1.27399039,  0.82082957],\n",
       "       [ 0.84946233,  0.9280597 ,  0.98967916,  1.12010288,  0.61215776,\n",
       "         0.71293968,  0.69957989,  0.61097175,  1.10515106,  0.97031373,\n",
       "         0.96942139,  0.87958544,  0.71589327,  1.02142131,  1.12377751,\n",
       "         1.16305923,  1.05672395,  0.99873996,  1.0230248 ,  0.83053643,\n",
       "         0.79999924,  0.79025352,  0.71761   ,  0.89274269,  0.81960124,\n",
       "         0.79646331,  0.75675082,  0.94490051,  1.24018788,  1.3735466 ,\n",
       "         1.20430493,  0.90391558],\n",
       "       [ 0.86795026,  1.06700206,  0.97848272,  1.03184021,  0.67661464,\n",
       "         0.55831003,  0.67087251,  0.69564044,  0.93300807,  1.05430198,\n",
       "         1.15526795,  0.80363137,  0.73267317,  1.04504728,  1.12704265,\n",
       "         1.14837015,  1.15991366,  1.22281039,  0.67129183,  1.04269493,\n",
       "         0.69963366,  0.8338455 ,  0.73102391,  0.86404884,  0.87279731,\n",
       "         0.70557547,  0.89834565,  0.93903697,  1.32640982,  1.46448493,\n",
       "         1.14312875,  0.83832902],\n",
       "       [ 1.08807123,  1.06140184,  0.92896223,  0.95886737,  0.67694306,\n",
       "         0.68261445,  0.60787457,  0.70462102,  0.78288943,  0.97363865,\n",
       "         1.14480722,  0.75659102,  0.79796636,  0.90420061,  1.35885918,\n",
       "         1.09164977,  1.28944802,  1.24166417,  0.8415519 ,  0.84374356,\n",
       "         0.58104384,  0.84792167,  0.92702454,  0.81683505,  0.86031467,\n",
       "         0.68404371,  0.6686607 ,  0.84491992,  1.18404686,  1.53449285,\n",
       "         1.15990412,  0.90346873],\n",
       "       [ 0.91481918,  1.07298183,  1.1010443 ,  1.19684827,  0.84475392,\n",
       "         0.6875422 ,  0.63378233,  0.67884582,  0.95323962,  0.92819005,\n",
       "         0.76522571,  0.63688445,  0.83524114,  1.12977922,  1.24475563,\n",
       "         1.29371238,  1.22686839,  1.25782835,  1.00579965,  0.93769747,\n",
       "         0.70438874,  0.80826342,  0.78037083,  0.80495715,  0.99701536,\n",
       "         0.59133536,  0.69682586,  0.87743503,  1.30832195,  1.57536221,\n",
       "         1.15273321,  0.95480919],\n",
       "       [ 0.93527132,  1.07985711,  1.07187462,  0.98578995,  0.58792484,\n",
       "         0.7317431 ,  0.78162801,  0.68843299,  0.71675706,  0.85354167,\n",
       "         0.8101508 ,  0.65903634,  0.80675155,  1.02962279,  1.18329489,\n",
       "         1.26967394,  1.0856775 ,  1.24116683,  0.86714363,  1.00029504,\n",
       "         0.66221803,  0.7292285 ,  0.83809572,  0.90681511,  0.90093756,\n",
       "         0.67918253,  0.66580522,  0.93299168,  1.19479251,  1.57618785,\n",
       "         1.15601218,  1.54060841],\n",
       "       [ 1.03520417,  1.16566145,  1.05589426,  1.09719563,  0.56891644,\n",
       "         0.64902771,  0.63028592,  0.79779994,  0.65577888,  1.03979337,\n",
       "         0.81995201,  0.7042672 ,  0.67650729,  0.89687866,  1.19149888,\n",
       "         1.13591397,  1.09289503,  1.04204404,  0.90775728,  0.78194636,\n",
       "         0.71918505,  0.69263321,  0.94388378,  0.94437063,  0.84569865,\n",
       "         0.7456643 ,  0.62244976,  0.9459542 ,  1.26528645,  1.59360993,\n",
       "         1.11308134,  1.61551595],\n",
       "       [ 1.08532846,  1.13143063,  1.07537985,  0.93906415,  0.77245975,\n",
       "         0.61977142,  0.9380374 ,  0.71848166,  0.77452785,  0.90151608,\n",
       "         0.78603828,  0.75035638,  0.91653633,  1.0551542 ,  1.10992074,\n",
       "         1.12633705,  1.14238727,  1.2374928 ,  0.83025694,  0.93862879,\n",
       "         0.79340416,  0.7086187 ,  0.80334461,  1.02513456,  0.88189816,\n",
       "         0.71953034,  0.69365317,  0.96450168,  1.34461582,  1.44548297,\n",
       "         1.07155395,  1.89588952],\n",
       "       [ 0.96543485,  1.08404934,  0.93444771,  1.37618887,  0.71945298,\n",
       "         0.59574229,  0.82011622,  0.81258219,  0.84973651,  0.95081776,\n",
       "         0.87613767,  0.75227344,  1.0963701 ,  1.16930521,  1.37716579,\n",
       "         1.16723859,  1.20649934,  1.06259954,  0.83648229,  0.87105381,\n",
       "         0.7414819 ,  0.77011311,  0.85608763,  0.78993022,  0.90267283,\n",
       "         0.667817  ,  0.95987737,  1.05025947,  1.37381697,  1.432832  ,\n",
       "         1.12721658,  1.26238728],\n",
       "       [ 0.98342389,  0.91054052,  1.22410023,  1.20115006,  0.73370022,\n",
       "         0.68592376,  0.6848619 ,  0.78221905,  0.86779606,  1.05111778,\n",
       "         0.7537986 ,  0.64867991,  0.99185669,  0.99295342,  1.2627821 ,\n",
       "         1.28271496,  1.19320977,  1.13005722,  0.91882294,  0.86639369,\n",
       "         0.83952731,  0.78199232,  0.81197321,  0.99034345,  0.91080058,\n",
       "         0.84775382,  0.85374993,  1.09320748,  1.34862268,  1.5970248 ,\n",
       "         0.86921471,  1.03944254],\n",
       "       [ 0.89615703,  0.95242107,  0.98089039,  1.1639818 ,  0.73051143,\n",
       "         0.67970777,  0.81850469,  0.81566256,  0.77995384,  1.17730212,\n",
       "         0.78958756,  0.72244072,  0.96229869,  1.12833679,  1.34589279,\n",
       "         1.1002903 ,  1.08370948,  0.95847148,  1.04070592,  0.90858161,\n",
       "         0.75724924,  0.75872034,  0.71739614,  0.82446182,  0.8916387 ,\n",
       "         0.76002353,  0.79575503,  0.9451353 ,  1.43584466,  1.5054003 ,\n",
       "         1.13053596,  1.18098843],\n",
       "       [ 1.04972661,  0.82289034,  0.95851171,  1.15725327,  0.59240663,\n",
       "         0.6018948 ,  0.63683856,  0.85428339,  0.90018052,  1.18355691,\n",
       "         0.91034687,  0.78020895,  1.00609756,  0.93476158,  1.27054   ,\n",
       "         1.38454247,  0.93256617,  0.77848434,  0.91776919,  0.90902126,\n",
       "         0.75760239,  0.73557621,  0.85894668,  0.78786975,  0.89842951,\n",
       "         0.62347168,  0.77272797,  0.94999015,  1.32087016,  1.44334102,\n",
       "         0.93837303,  1.1872741 ],\n",
       "       [ 0.88653266,  0.84496015,  0.98506707,  1.15648758,  0.57001424,\n",
       "         0.67412883,  0.69319373,  0.69123352,  0.7049877 ,  1.08796287,\n",
       "         0.89607173,  0.71338075,  0.73377806,  0.95634168,  1.32411742,\n",
       "         1.22183263,  1.06600845,  1.02217412,  0.84013122,  0.74222994,\n",
       "         0.77285767,  0.60562718,  0.62365943,  0.80428368,  0.72963601,\n",
       "         0.68928689,  1.06185782,  0.94297206,  1.25338471,  1.09896719,\n",
       "         0.78103226,  0.96510261]], dtype=float32)"
      ]
     },
     "execution_count": 86,
     "metadata": {},
     "output_type": "execute_result"
    }
   ],
   "source": [
    "np.sqrt((((net.blobs['pred_joint'].data - net.blobs['reshape-joint'].data)*net.blobs['config'].data[-1][0])**2).sum(2))/42"
   ]
  },
  {
   "cell_type": "code",
   "execution_count": 74,
   "metadata": {
    "collapsed": false
   },
   "outputs": [
    {
     "data": {
      "text/plain": [
       "(16, 32, 42)"
      ]
     },
     "execution_count": 74,
     "metadata": {},
     "output_type": "execute_result"
    }
   ],
   "source": [
    "net.blobs['reshape-joint'].data.shape"
   ]
  },
  {
   "cell_type": "code",
   "execution_count": 82,
   "metadata": {
    "collapsed": false
   },
   "outputs": [
    {
     "ename": "SyntaxError",
     "evalue": "non-keyword arg after keyword arg (<ipython-input-82-b620ce646fdc>, line 2)",
     "traceback": [
      "\u001b[1;36m  File \u001b[1;32m\"<ipython-input-82-b620ce646fdc>\"\u001b[1;36m, line \u001b[1;32m2\u001b[0m\n\u001b[1;33m    np.sum(a, axis=1,2)\u001b[0m\n\u001b[1;31mSyntaxError\u001b[0m\u001b[1;31m:\u001b[0m non-keyword arg after keyword arg\n"
     ],
     "output_type": "error"
    }
   ],
   "source": [
    "a = np.array([[1,2,3,4],[2,3,4,5]])\n",
    "np.sum(a, axis=)"
   ]
  },
  {
   "cell_type": "code",
   "execution_count": 7,
   "metadata": {
    "collapsed": false
   },
   "outputs": [],
   "source": [
    "with open('../result/OURS/hand_lstm_160000.txt', 'w') as f:\n",
    "    for i in xrange(predicted_joints.shape[0]):\n",
    "        for item in predicted_joints[i].reshape(14*3):\n",
    "            f.write(\"%s \"% item)\n",
    "        f.write(\"\\n\")"
   ]
  },
  {
   "cell_type": "code",
   "execution_count": null,
   "metadata": {
    "collapsed": false,
    "scrolled": true
   },
   "outputs": [],
   "source": [
    "solver = None\n",
    "solver = caffe.AdamSolver(solver_prototxt)\n",
    "solver.net.forward()\n",
    "solver.test_nets[0].forward()"
   ]
  },
  {
   "cell_type": "code",
   "execution_count": 25,
   "metadata": {
    "collapsed": true
   },
   "outputs": [],
   "source": [
    "def vis_square(data):\n",
    "    \"\"\"Take an array of shape (n, height, width) or (n, height, width, 3)\n",
    "       and visualize each (height, width) thing in a grid of size approx. sqrt(n) by sqrt(n)\"\"\"\n",
    "    \n",
    "    # normalize data for display\n",
    "    data = (data - data.min()) / (data.max() - data.min())\n",
    "    \n",
    "    # force the number of filters to be square\n",
    "    n = int(np.ceil(np.sqrt(data.shape[0])))\n",
    "    padding = (((0, n ** 2 - data.shape[0]),\n",
    "               (0, 1), (0, 1))                 # add some space between filters\n",
    "               + ((0, 0),) * (data.ndim - 3))  # don't pad the last dimension (if there is one)\n",
    "    data = np.pad(data, padding, mode='constant', constant_values=1)  # pad with ones (white)\n",
    "\n",
    "    # tile the filters into an image\n",
    "    data = data.reshape((n, n) + data.shape[1:]).transpose((0, 2, 1, 3) + tuple(range(4, data.ndim + 1)))\n",
    "    data = data.reshape((n * data.shape[1], n * data.shape[3]) + data.shape[4:])\n",
    "    \n",
    "    plt.imshow(data); plt.axis('off')"
   ]
  },
  {
   "cell_type": "code",
   "execution_count": 69,
   "metadata": {
    "collapsed": false,
    "scrolled": false
   },
   "outputs": [
    {
     "data": {
      "text/plain": [
       "array([-0.01275859, -0.02090291,  0.12513016, ...,  0.00697055,\n",
       "        0.02041021,  0.08731566], dtype=float32)"
      ]
     },
     "execution_count": 69,
     "metadata": {},
     "output_type": "execute_result"
    }
   ],
   "source": [
    "net.blobs['fc1'].data[1]"
   ]
  },
  {
   "cell_type": "code",
   "execution_count": 68,
   "metadata": {
    "collapsed": false
   },
   "outputs": [
    {
     "data": {
      "text/plain": [
       "array([-0.01275859, -0.02090291,  0.12513016, ...,  0.00697055,\n",
       "        0.02041021,  0.08731566], dtype=float32)"
      ]
     },
     "execution_count": 68,
     "metadata": {},
     "output_type": "execute_result"
    }
   ],
   "source": [
    "net.blobs['reshape-data'].data[0][1]"
   ]
  },
  {
   "cell_type": "code",
   "execution_count": null,
   "metadata": {
    "collapsed": true
   },
   "outputs": [],
   "source": [
    "plt.hist(net.blobs['lstm'].data[0])"
   ]
  },
  {
   "cell_type": "code",
   "execution_count": 43,
   "metadata": {
    "collapsed": false
   },
   "outputs": [
    {
     "name": "stdout",
     "output_type": "stream",
     "text": [
      "Help on function bar in module matplotlib.pyplot:\n",
      "\n",
      "bar(left, height, width=0.8, bottom=None, hold=None, data=None, **kwargs)\n",
      "    Make a bar plot.\n",
      "    \n",
      "    Make a bar plot with rectangles bounded by:\n",
      "    \n",
      "      `left`, `left` + `width`, `bottom`, `bottom` + `height`\n",
      "            (left, right, bottom and top edges)\n",
      "    \n",
      "    Parameters\n",
      "    ----------\n",
      "    left : sequence of scalars\n",
      "        the x coordinates of the left sides of the bars\n",
      "    \n",
      "    height : sequence of scalars\n",
      "        the heights of the bars\n",
      "    \n",
      "    width : scalar or array-like, optional\n",
      "        the width(s) of the bars\n",
      "        default: 0.8\n",
      "    \n",
      "    bottom : scalar or array-like, optional\n",
      "        the y coordinate(s) of the bars\n",
      "        default: None\n",
      "    \n",
      "    color : scalar or array-like, optional\n",
      "        the colors of the bar faces\n",
      "    \n",
      "    edgecolor : scalar or array-like, optional\n",
      "        the colors of the bar edges\n",
      "    \n",
      "    linewidth : scalar or array-like, optional\n",
      "        width of bar edge(s). If None, use default\n",
      "        linewidth; If 0, don't draw edges.\n",
      "        default: None\n",
      "    \n",
      "    tick_label : string or array-like, optional\n",
      "        the tick labels of the bars\n",
      "        default: None\n",
      "    \n",
      "    xerr : scalar or array-like, optional\n",
      "        if not None, will be used to generate errorbar(s) on the bar chart\n",
      "        default: None\n",
      "    \n",
      "    yerr : scalar or array-like, optional\n",
      "        if not None, will be used to generate errorbar(s) on the bar chart\n",
      "        default: None\n",
      "    \n",
      "    ecolor : scalar or array-like, optional\n",
      "        specifies the color of errorbar(s)\n",
      "        default: None\n",
      "    \n",
      "    capsize : scalar, optional\n",
      "       determines the length in points of the error bar caps\n",
      "       default: None, which will take the value from the\n",
      "       ``errorbar.capsize`` :data:`rcParam<matplotlib.rcParams>`.\n",
      "    \n",
      "    error_kw : dict, optional\n",
      "        dictionary of kwargs to be passed to errorbar method. *ecolor* and\n",
      "        *capsize* may be specified here rather than as independent kwargs.\n",
      "    \n",
      "    align : {'center', 'edge'}, optional\n",
      "        If 'edge', aligns bars by their left edges (for vertical bars) and\n",
      "        by their bottom edges (for horizontal bars). If 'center', interpret\n",
      "        the `left` argument as the coordinates of the centers of the bars.\n",
      "        To align on the align bars on the right edge pass a negative\n",
      "        `width`.\n",
      "    \n",
      "    orientation : {'vertical',  'horizontal'}, optional\n",
      "        The orientation of the bars.\n",
      "    \n",
      "    log : boolean, optional\n",
      "        If true, sets the axis to be log scale.\n",
      "        default: False\n",
      "    \n",
      "    Returns\n",
      "    -------\n",
      "    bars : matplotlib.container.BarContainer\n",
      "        Container with all of the bars + errorbars\n",
      "    \n",
      "    Notes\n",
      "    -----\n",
      "    The optional arguments `color`, `edgecolor`, `linewidth`,\n",
      "    `xerr`, and `yerr` can be either scalars or sequences of\n",
      "    length equal to the number of bars.  This enables you to use\n",
      "    bar as the basis for stacked bar charts, or candlestick plots.\n",
      "    Detail: `xerr` and `yerr` are passed directly to\n",
      "    :meth:`errorbar`, so they can also have shape 2xN for\n",
      "    independent specification of lower and upper errors.\n",
      "    \n",
      "    Other optional kwargs:\n",
      "    \n",
      "      agg_filter: unknown\n",
      "      alpha: float or None \n",
      "      animated: [True | False] \n",
      "      antialiased or aa: [True | False]  or None for default \n",
      "      axes: an :class:`~matplotlib.axes.Axes` instance \n",
      "      capstyle: ['butt' | 'round' | 'projecting'] \n",
      "      clip_box: a :class:`matplotlib.transforms.Bbox` instance \n",
      "      clip_on: [True | False] \n",
      "      clip_path: [ (:class:`~matplotlib.path.Path`, :class:`~matplotlib.transforms.Transform`) | :class:`~matplotlib.patches.Patch` | None ] \n",
      "      color: matplotlib color spec\n",
      "      contains: a callable function \n",
      "      edgecolor or ec: mpl color spec, None, 'none', or 'auto' \n",
      "      facecolor or fc: mpl color spec, or None for default, or 'none' for no color \n",
      "      figure: a :class:`matplotlib.figure.Figure` instance \n",
      "      fill: [True | False] \n",
      "      gid: an id string \n",
      "      hatch: ['/' | '\\\\' | '|' | '-' | '+' | 'x' | 'o' | 'O' | '.' | '*'] \n",
      "      joinstyle: ['miter' | 'round' | 'bevel'] \n",
      "      label: string or anything printable with '%s' conversion. \n",
      "      linestyle or ls: ['solid' | 'dashed', 'dashdot', 'dotted' | (offset, on-off-dash-seq) | ``'-'`` | ``'--'`` | ``'-.'`` | ``':'`` | ``'None'`` | ``' '`` | ``''``]\n",
      "      linewidth or lw: float or None for default \n",
      "      path_effects: unknown\n",
      "      picker: [None|float|boolean|callable] \n",
      "      rasterized: [True | False | None] \n",
      "      sketch_params: unknown\n",
      "      snap: unknown\n",
      "      transform: :class:`~matplotlib.transforms.Transform` instance \n",
      "      url: a url string \n",
      "      visible: [True | False] \n",
      "      zorder: any number \n",
      "    \n",
      "    See also\n",
      "    --------\n",
      "    barh: Plot a horizontal bar plot.\n",
      "    \n",
      "    Examples\n",
      "    --------\n",
      "    \n",
      "    **Example:** A stacked bar chart.\n",
      "    \n",
      "    .. plot:: mpl_examples/pylab_examples/bar_stacked.py\n",
      "    \n",
      "    .. note::\n",
      "        In addition to the above described arguments, this function can take a\n",
      "        **data** keyword argument. If such a **data** argument is given, the\n",
      "        following arguments are replaced by **data[<arg>]**:\n",
      "    \n",
      "        * All arguments with the following names: 'bottom', 'color', 'ecolor', 'edgecolor', 'height', 'left', 'linewidth', 'tick_label', 'width', 'xerr', 'yerr'.\n",
      "\n"
     ]
    }
   ],
   "source": [
    "help(plt.bar)"
   ]
  }
 ],
 "metadata": {
  "kernelspec": {
   "display_name": "Python 2",
   "language": "python",
   "name": "python2"
  },
  "language_info": {
   "codemirror_mode": {
    "name": "ipython",
    "version": 2.0
   },
   "file_extension": ".py",
   "mimetype": "text/x-python",
   "name": "python",
   "nbconvert_exporter": "python",
   "pygments_lexer": "ipython2",
   "version": "2.7.12"
  }
 },
 "nbformat": 4,
 "nbformat_minor": 0
}