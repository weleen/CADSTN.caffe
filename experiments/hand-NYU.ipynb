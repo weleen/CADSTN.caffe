{
 "cells": [
  {
   "cell_type": "markdown",
   "metadata": {},
   "source": [
    "### NYU"
   ]
  },
  {
   "cell_type": "code",
   "execution_count": 1,
   "metadata": {
    "collapsed": true
   },
   "outputs": [],
   "source": [
    "caffe_root = '../caffe'\n",
    "import sys\n",
    "sys.path.insert(0, caffe_root + '/python')\n",
    "\n",
    "import caffe\n",
    "\n",
    "import numpy as np\n",
    "import matplotlib.pyplot as plt\n",
    "%matplotlib inline\n",
    "\n",
    "import h5py\n",
    "from matplotlib.patches import Circle\n",
    "import scipy.io as scio\n",
    "import os"
   ]
  },
  {
   "cell_type": "code",
   "execution_count": 2,
   "metadata": {
    "collapsed": true
   },
   "outputs": [],
   "source": [
    "fx = 588.03\n",
    "fy = 587.07\n",
    "ux = 320\n",
    "uy = 240\n",
    "def jointsImgTo3D(sample):\n",
    "    \"\"\"\n",
    "    Normalize sample to metric 3D\n",
    "    :param sample: joints in (x,y,z) with x,y in image coordinates and z in mm\n",
    "    :return: normalized joints in mm\n",
    "    \"\"\"\n",
    "    ret = np.zeros((sample.shape[0], 3), np.float32)\n",
    "    for i in range(sample.shape[0]):\n",
    "        ret[i] = jointImgTo3D(sample[i])\n",
    "    return ret\n",
    "\n",
    "def jointImgTo3D(sample):\n",
    "    \"\"\"\n",
    "    Normalize sample to metric 3D\n",
    "    :param sample: joints in (x,y,z) with x,y in image coordinates and z in mm\n",
    "    :return: normalized joints in mm\n",
    "    \"\"\"\n",
    "    ret = np.zeros((3,), np.float32)\n",
    "    # convert to metric using f, see Thomson et al.\n",
    "    ret[0] = (sample[0] - ux) * sample[2] / fx\n",
    "    ret[1] = (uy - sample[1]) * sample[2] / fy\n",
    "    ret[2] = sample[2]\n",
    "    return ret\n",
    "\n",
    "def loadPredFile(filepath):\n",
    "    import os\n",
    "    assert os.path.isfile(filepath), \"{} is not exists or is not a file!\".format(filepath)\n",
    "    with open(filepath, 'r') as f:\n",
    "        lines = f.readlines()\n",
    "        for index, line in enumerate(lines):\n",
    "            lines[index] = map(float, line.split())\n",
    "        joints = np.array(lines)\n",
    "        n, d = joints.shape\n",
    "        return joints.reshape(n, d/3, 3)\n",
    "    \n",
    "def getNumFrameWithinMaxDist(gt, joints, dist):\n",
    "    return (np.nanmax(np.sqrt(np.square(gt - joints).sum(axis=2)), axis=1) <= dist).sum()\n",
    "\n",
    "def plotAccuracy(gt, joints, thresh = 80, label='ours'):\n",
    "    fig = plt.figure()\n",
    "    ax = fig.add_subplot(111)\n",
    "    ax.plot([getNumFrameWithinMaxDist(gt, joints, j)/ float(joints.shape[0]) * 100. for j in range(0, 80)], label=label)\n",
    "    ax.grid(True)\n",
    "    plt.xlabel('Distance threshold / mm')\n",
    "    plt.ylabel('Fraction of frames within threshold / %')\n",
    "    plt.xlim((0, 80))\n",
    "    plt.ylim((0.0, 100.0))\n",
    "\n",
    "def predict_joints(model_name, weights_num):\n",
    "    \"\"\"predict joints\"\"\"\n",
    "    model_def = './hand_' + model_name + '.prototxt'\n",
    "    model_weights = './weights/hand_' + model_name + '/' + model_name + '_iter_' + weights_num + '.caffemodel'\n",
    "    if model_name == 'CAE_joint_pre_scratch':\n",
    "        model_def = './hand_CAE_joint_pre.prototxt'\n",
    "        model_weights = './weights/hand_' + model_name + '/CAE_joint_pre_iter_' + weights_num + '.caffemodel'\n",
    "    \n",
    "    print model_def\n",
    "    print model_weights\n",
    "    \n",
    "    net = caffe.Net(model_def,\n",
    "                   model_weights,\n",
    "                   caffe.TEST)\n",
    "\n",
    "    # store the predicted xyz into files\n",
    "    image_index = 0\n",
    "    cube_size = 300\n",
    "    im_size = 8252\n",
    "    batch_size = net.blobs['depth'].data.shape[0]\n",
    "    \n",
    "    file_name = './result/pred_' + model_name + '_' + weights_num + '.txt'\n",
    "\n",
    "    import os\n",
    "    if os.path.isfile(file_name):\n",
    "        return file_name\n",
    "    \n",
    "    pred_file = open(file_name, \"w\")\n",
    "    print file_name\n",
    "                     \n",
    "    for i in xrange(im_size/batch_size + 1):\n",
    "        net.forward()\n",
    "        for j in xrange(batch_size):\n",
    "            image_index += 1\n",
    "            if image_index > 2440:\n",
    "                cube_size = 300 * 0.87\n",
    "            com = net.blobs['com'].data[j]\n",
    "            #print \"com = \", com\n",
    "            inds = net.blobs['inds'].data[j]\n",
    "            #print \"image index = \", inds\n",
    "            pred_joints = net.blobs['joint_pred'].data[j].reshape(14, 3) * cube_size / 2 + com.reshape(1, 3)\n",
    "            #print \"pred joints = \", pred_joints\n",
    "            for item in pred_joints.reshape(14*3,):\n",
    "                pred_file.write(\"%s \" %item)\n",
    "            pred_file.write('\\n')\n",
    "            if image_index == im_size:\n",
    "                break\n",
    "        if image_index == im_size:\n",
    "            break\n",
    "    pred_file.close()  \n",
    "    return file_name\n",
    "\n",
    "def vis_square(data):\n",
    "    \"\"\"Take an array of shape (n, height, width) or (n, height, width, 3)\n",
    "       and visualize each (height, width) thing in a grid of size approx. sqrt(n) by sqrt(n)\"\"\"\n",
    "    \n",
    "    # normalize data for display\n",
    "    data = (data - data.min()) / (data.max() - data.min())\n",
    "    \n",
    "    # force the number of filters to be square\n",
    "    n = int(np.ceil(np.sqrt(data.shape[0])))\n",
    "    padding = (((0, n ** 2 - data.shape[0]),\n",
    "               (0, 1), (0, 1))                 # add some space between filters\n",
    "               + ((0, 0),) * (data.ndim - 3))  # don't pad the last dimension (if there is one)\n",
    "    data = np.pad(data, padding, mode='constant', constant_values=1)  # pad with ones (white)\n",
    "\n",
    "    # tile the filters into an image\n",
    "    data = data.reshape((n, n) + data.shape[1:]).transpose((0, 2, 1, 3) + tuple(range(4, data.ndim + 1)))\n",
    "    data = data.reshape((n * data.shape[1], n * data.shape[3]) + data.shape[4:])\n",
    "    \n",
    "    plt.imshow(data); plt.axis('off')"
   ]
  },
  {
   "cell_type": "markdown",
   "metadata": {},
   "source": [
    "### train"
   ]
  },
  {
   "cell_type": "code",
   "execution_count": null,
   "metadata": {
    "collapsed": false
   },
   "outputs": [],
   "source": [
    "caffe.set_device(0)\n",
    "caffe.set_mode_gpu()\n",
    "\n",
    "solver = None\n",
    "solver = caffe.AdamSolver('./solver_baseline.prototxt')\n",
    "\n",
    "solver.net.forward()\n",
    "solver.test_nets[0].forward()"
   ]
  },
  {
   "cell_type": "code",
   "execution_count": null,
   "metadata": {
    "collapsed": false
   },
   "outputs": [],
   "source": [
    "img = (solver.net.blobs['depth'].data[0].reshape(128,128))\n",
    "plt.imshow(img)\n",
    "(solver.net.blobs['joint'].data[0]).reshape(14,3)"
   ]
  },
  {
   "cell_type": "markdown",
   "metadata": {},
   "source": [
    "### test"
   ]
  },
  {
   "cell_type": "code",
   "execution_count": 3,
   "metadata": {
    "collapsed": true
   },
   "outputs": [],
   "source": [
    "caffe.set_device(0)\n",
    "caffe.set_mode_gpu()"
   ]
  },
  {
   "cell_type": "markdown",
   "metadata": {},
   "source": [
    "#### test the autoencoder"
   ]
  },
  {
   "cell_type": "code",
   "execution_count": null,
   "metadata": {
    "collapsed": false
   },
   "outputs": [],
   "source": [
    "model_def = './hand_CAE.prototxt'\n",
    "model_weights = './weights/hand_CAE/CAE_iter_90000.caffemodel'\n",
    "net = caffe.Net(model_def,\n",
    "               model_weights,\n",
    "               caffe.TEST)"
   ]
  },
  {
   "cell_type": "code",
   "execution_count": null,
   "metadata": {
    "collapsed": false
   },
   "outputs": [],
   "source": [
    "net.forward()"
   ]
  },
  {
   "cell_type": "markdown",
   "metadata": {
    "collapsed": true
   },
   "source": [
    "## Plot the accuracy of hand pose estimation"
   ]
  },
  {
   "cell_type": "markdown",
   "metadata": {},
   "source": [
    "### read the ground truth"
   ]
  },
  {
   "cell_type": "code",
   "execution_count": 3,
   "metadata": {
    "collapsed": true
   },
   "outputs": [],
   "source": [
    "gt_file = '/mnt/data/NYU-Hands-v2/test/joint_data.mat'\n",
    "data = scio.loadmat(gt_file)\n",
    "kinect_index = 0\n",
    "image_index = 0\n",
    "joint_uvd = data['joint_uvd'][kinect_index, :, :, :]\n",
    "joint_xyz = data['joint_xyz'][kinect_index, :, :, :]\n",
    "restrictedJoint = [0, 3, 6, 9, 12, 15, 18, 21, 24, 25, 27, 30, 31, 32]\n",
    "joint_name = data['joint_names'].reshape(36, 1)"
   ]
  },
  {
   "cell_type": "markdown",
   "metadata": {},
   "source": [
    "#### read the prediction(CVWW 2015)"
   ]
  },
  {
   "cell_type": "code",
   "execution_count": 4,
   "metadata": {
    "collapsed": false
   },
   "outputs": [
    {
     "data": {
      "image/png": "[encoded data removed]",
      "text/plain": [
       "<matplotlib.figure.Figure at 0x7f7734579250>"
      ]
     },
     "metadata": {},
     "output_type": "display_data"
    }
   ],
   "source": [
    "pred_file_CVWW15 = '../result/CVWW15/CVWW15_NYU_Prior.txt'\n",
    "pred_joints = loadPredFile(pred_file_CVWW15)\n",
    "pred_joints3D = []\n",
    "for joints in pred_joints:\n",
    "    joints3D = jointsImgTo3D(joints)\n",
    "    pred_joints3D.append(joints3D)\n",
    "pred_joints3D = np.asarray(pred_joints3D)\n",
    "plotAccuracy(joint_xyz[:, restrictedJoint], pred_joints3D, label='CVWW15')"
   ]
  },
  {
   "cell_type": "code",
   "execution_count": 17,
   "metadata": {
    "collapsed": false
   },
   "outputs": [
    {
     "data": {
      "image/png": "[encoded data removed]",
      "text/plain": [
       "<matplotlib.figure.Figure at 0x7f76f08d8910>"
      ]
     },
     "metadata": {},
     "output_type": "display_data"
    }
   ],
   "source": [
    "pred_file_CVWW15_refine = '../result/CVWW15/CVWW15_NYU_Prior-Refinement.txt'\n",
    "pred_joints = loadPredFile(pred_file_CVWW15_refine)\n",
    "pred_joints3D = []\n",
    "for joints in pred_joints:\n",
    "    joints3D = jointsImgTo3D(joints)\n",
    "    pred_joints3D.append(joints3D)\n",
    "pred_joints3D = np.asarray(pred_joints3D)\n",
    "plotAccuracy(joint_xyz[:, restrictedJoint], pred_joints3D, label='CVWW15')"
   ]
  },
  {
   "cell_type": "code",
   "execution_count": 20,
   "metadata": {
    "collapsed": false
   },
   "outputs": [
    {
     "data": {
      "image/png": "[encoded data removed]",
      "text/plain": [
       "<matplotlib.figure.Figure at 0x7f76f08afa90>"
      ]
     },
     "metadata": {},
     "output_type": "display_data"
    }
   ],
   "source": [
    "pred_file_ICCV = '../result/ICCV15/ICCV15_NYU_Feedback.txt'\n",
    "pred_joints = loadPredFile(pred_file_ICCV)\n",
    "pred_joints3D = []\n",
    "for joints in pred_joints:\n",
    "    joints3D = jointsImgTo3D(joints)\n",
    "    pred_joints3D.append(joints3D)\n",
    "pred_joints3D = np.asarray(pred_joints3D)\n",
    "plotAccuracy(joint_xyz[:, restrictedJoint], pred_joints3D, label='ICCV')"
   ]
  },
  {
   "cell_type": "code",
   "execution_count": 19,
   "metadata": {
    "collapsed": false,
    "scrolled": true
   },
   "outputs": [
    {
     "data": {
      "text/plain": [
       "array([[-188.8598938 ,   48.26607895,  738.2130127 ],\n",
       "       [-187.65446472,    8.34257603,  753.14099121],\n",
       "       [-148.77838135,   77.10137939,  739.70300293],\n",
       "       [-158.14552307,   29.92742729,  758.45001221],\n",
       "       [-120.9287796 ,   91.98213196,  747.21801758],\n",
       "       [-131.57484436,   39.8167038 ,  768.39001465],\n",
       "       [ -91.38425446,   71.44677734,  745.31799316],\n",
       "       [-103.49025726,   32.36278915,  771.54199219],\n",
       "       [ -77.93404388,  -13.61524296,  739.690979  ],\n",
       "       [ -81.0486908 ,  -29.53861618,  752.26599121],\n",
       "       [ -91.83706665,  -72.48239136,  770.83197021],\n",
       "       [-182.10557556, -113.22124481,  787.82501221],\n",
       "       [-147.98939514, -119.26489258,  799.42498779],\n",
       "       [-144.33244324,  -39.82624817,  782.64697266]], dtype=float32)"
      ]
     },
     "execution_count": 19,
     "metadata": {},
     "output_type": "execute_result"
    }
   ],
   "source": [
    "pred_joints3D[0]"
   ]
  },
  {
   "cell_type": "code",
   "execution_count": 22,
   "metadata": {
    "collapsed": false
   },
   "outputs": [
    {
     "data": {
      "text/plain": [
       "array([[-188.229  ,   44.5512 ,  733.535  ],\n",
       "       [-182.629  ,    8.35324,  748.294  ],\n",
       "       [-149.545  ,   72.9987 ,  735.97   ],\n",
       "       [-158.274  ,   30.3859 ,  753.725  ],\n",
       "       [-122.62   ,   86.2346 ,  739.689  ],\n",
       "       [-135.132  ,   40.1118 ,  762.063  ],\n",
       "       [ -89.0874 ,   68.4508 ,  744.779  ],\n",
       "       [-105.313  ,   31.3467 ,  767.451  ],\n",
       "       [ -71.9281 ,  -13.326  ,  744.801  ],\n",
       "       [ -80.0219 ,  -30.1785 ,  753.16   ],\n",
       "       [ -94.1345 ,  -64.798  ,  770.437  ],\n",
       "       [-174.155  , -108.99   ,  787.732  ],\n",
       "       [-143.656  , -113.054  ,  797.016  ],\n",
       "       [-145.196  ,  -36.0952 ,  778.288  ]])"
      ]
     },
     "execution_count": 22,
     "metadata": {},
     "output_type": "execute_result"
    }
   ],
   "source": [
    "pred_joints3D[0]"
   ]
  },
  {
   "cell_type": "markdown",
   "metadata": {},
   "source": [
    "#### predicted by ourselves"
   ]
  },
  {
   "cell_type": "code",
   "execution_count": 21,
   "metadata": {
    "collapsed": false,
    "scrolled": false
   },
   "outputs": [
    {
     "data": {
      "image/png": "[encoded data removed]",
      "text/plain": [
       "<matplotlib.figure.Figure at 0x7f76ee3a5c10>"
      ]
     },
     "metadata": {},
     "output_type": "display_data"
    }
   ],
   "source": [
    "pred_ours_file = '../result/OURS/hand_lstm_160000.txt'\n",
    "pred_joints3D = loadPredFile(pred_ours_file)\n",
    "\n",
    "plotAccuracy(joint_xyz[:, restrictedJoint], pred_joints3D, label='CVWW15')"
   ]
  },
  {
   "cell_type": "code",
   "execution_count": 17,
   "metadata": {
    "collapsed": false,
    "scrolled": true
   },
   "outputs": [
    {
     "name": "stdout",
     "output_type": "stream",
     "text": [
      "./hand_baseline.prototxt\n",
      "./weights/hand_baseline/baseline_iter_200000.caffemodel\n",
      "pred_baseline_200000.txt\n"
     ]
    },
    {
     "data": {
      "image/png": "[encoded data removed]",
      "text/plain": [
       "<matplotlib.figure.Figure at 0x7fcaac471ed0>"
      ]
     },
     "metadata": {},
     "output_type": "display_data"
    }
   ],
   "source": [
    "model_num = 'baseline'\n",
    "weights_num = '200000'\n",
    "pred_ours_file = predict_joints(model_num, weights_num)\n",
    "pred_joints = loadPredFile(pred_ours_file)\n",
    "plotAccuracy(joint_xyz[:, restrictedJoint], pred_joints, label='ours')"
   ]
  }
 ],
 "metadata": {
  "kernelspec": {
   "display_name": "Python 2",
   "language": "python",
   "name": "python2"
  },
  "language_info": {
   "codemirror_mode": {
    "name": "ipython",
    "version": 2
   },
   "file_extension": ".py",
   "mimetype": "text/x-python",
   "name": "python",
   "nbconvert_exporter": "python",
   "pygments_lexer": "ipython2",
   "version": "2.7.12"
  }
 },
 "nbformat": 4,
 "nbformat_minor": 0
}
